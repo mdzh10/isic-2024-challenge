{
 "cells": [
  {
   "cell_type": "markdown",
   "id": "a87542c7",
   "metadata": {
    "papermill": {
     "duration": 0.0121,
     "end_time": "2024-09-16T12:23:44.884916",
     "exception": false,
     "start_time": "2024-09-16T12:23:44.872816",
     "status": "completed"
    },
    "tags": []
   },
   "source": [
    "### Description\n",
    "\n",
    "The code in this notebook is presented almost as-is. You can find the full solution [here](https://github.com/ilyanovo/isic-2024).\n",
    "\n",
    "This solution achieves a score of 0.17264 on the private leaderboard and 0.18611 on the public leaderboard.\n",
    "\n",
    "It is not the best solution. Replacing the Edgenext model with a model trained on synthetic data resulted in a score of 0.17332 on the private leaderboard."
   ]
  },
  {
   "cell_type": "code",
   "execution_count": 58,
   "id": "134a93d1",
   "metadata": {},
   "outputs": [],
   "source": [
    "# import h5py\n",
    "# import os\n",
    "# from PIL import Image\n",
    "# from io import BytesIO\n",
    "\n",
    "# # === Settings ===\n",
    "# hdf5_file_path = '../data/original/test-image.hdf5'\n",
    "# output_dir = '../data/original/test-image/image'\n",
    "\n",
    "# # === Create output directory ===\n",
    "# os.makedirs(output_dir, exist_ok=True)\n",
    "\n",
    "# # === Load HDF5 file ===\n",
    "# with h5py.File(hdf5_file_path, 'r') as hdf:\n",
    "#     for dataset_name in hdf.keys():\n",
    "#         dataset = hdf[dataset_name]\n",
    "#         try:\n",
    "#             data = dataset[()]  # Scalar data\n",
    "\n",
    "#             if isinstance(data, bytes):\n",
    "#                 # Decode image from bytes\n",
    "#                 image = Image.open(BytesIO(data))\n",
    "#                 output_path = os.path.join(output_dir, f'{dataset_name}.jpg')\n",
    "#                 image.save(output_path)\n",
    "#                 print(f\"Saved {output_path}\")\n",
    "#             else:\n",
    "#                 print(f\"Skipping {dataset_name}: not raw bytes.\")\n",
    "\n",
    "#         except Exception as e:\n",
    "#             print(f\"Failed to process '{dataset_name}': {e}\")\n"
   ]
  },
  {
   "cell_type": "markdown",
   "id": "075dccfc",
   "metadata": {},
   "source": [
    "# Imports"
   ]
  },
  {
   "cell_type": "code",
   "execution_count": 59,
   "id": "ba8986ce",
   "metadata": {
    "_cell_guid": "b1076dfc-b9ad-4769-8c92-a6c4dae69d19",
    "_uuid": "8f2839f25d086af736a60e9eeb907d3b93b6e0e5",
    "execution": {
     "iopub.execute_input": "2024-09-16T12:23:44.909889Z",
     "iopub.status.busy": "2024-09-16T12:23:44.909562Z",
     "iopub.status.idle": "2024-09-16T12:23:57.435901Z",
     "shell.execute_reply": "2024-09-16T12:23:57.434941Z"
    },
    "papermill": {
     "duration": 12.541199,
     "end_time": "2024-09-16T12:23:57.438170",
     "exception": false,
     "start_time": "2024-09-16T12:23:44.896971",
     "status": "completed"
    },
    "tags": []
   },
   "outputs": [],
   "source": [
    "import os, cv2\n",
    "from pathlib import Path\n",
    "\n",
    "import numpy as np\n",
    "import pandas as pd\n",
    "import polars as pl\n",
    "\n",
    "from sklearn.model_selection import StratifiedGroupKFold\n",
    "from sklearn.model_selection import cross_val_score\n",
    "from sklearn.preprocessing import OneHotEncoder\n",
    "from sklearn.metrics import roc_auc_score\n",
    "from sklearn.ensemble import VotingClassifier\n",
    "\n",
    "from imblearn.under_sampling import RandomUnderSampler\n",
    "from imblearn.over_sampling import RandomOverSampler\n",
    "from imblearn.pipeline import Pipeline\n",
    "\n",
    "import lightgbm as lgb\n",
    "import catboost as cb\n",
    "import xgboost as xgb\n",
    "\n",
    "from sklearn.utils import resample\n",
    "\n",
    "import optuna\n",
    "\n",
    "from tqdm import tqdm\n",
    "\n",
    "\n",
    "import os\n",
    "import gc\n",
    "import cv2\n",
    "import math\n",
    "import copy\n",
    "import time\n",
    "import random\n",
    "import glob\n",
    "from matplotlib import pyplot as plt\n",
    "\n",
    "import h5py\n",
    "from PIL import Image\n",
    "from io import BytesIO\n",
    "\n",
    "# For data manipulation\n",
    "import numpy as np\n",
    "import pandas as pd\n",
    "\n",
    "# Pytorch Imports\n",
    "import torch\n",
    "import torch.nn as nn\n",
    "import torch.optim as optim\n",
    "import torch.nn.functional as F\n",
    "from torch.optim import lr_scheduler\n",
    "from torch.utils.data import Dataset, DataLoader\n",
    "from torch.cuda import amp\n",
    "import torchvision\n",
    "\n",
    "# Utils\n",
    "import joblib\n",
    "from tqdm import tqdm\n",
    "from collections import defaultdict\n",
    "\n",
    "# Sklearn Imports\n",
    "from sklearn.preprocessing import LabelEncoder\n",
    "from sklearn.model_selection import StratifiedKFold\n",
    "\n",
    "# For Image Models\n",
    "import timm\n",
    "\n",
    "# Albumentations for augmentations\n",
    "import albumentations as A\n",
    "from albumentations.pytorch import ToTensorV2\n",
    "import warnings\n",
    "warnings.filterwarnings(\"ignore\")"
   ]
  },
  {
   "cell_type": "markdown",
   "id": "21de9469",
   "metadata": {},
   "source": [
    "# Feature Assign"
   ]
  },
  {
   "cell_type": "code",
   "execution_count": 60,
   "id": "95b6558f",
   "metadata": {
    "execution": {
     "iopub.execute_input": "2024-09-16T12:23:57.463074Z",
     "iopub.status.busy": "2024-09-16T12:23:57.462478Z",
     "iopub.status.idle": "2024-09-16T12:23:57.477693Z",
     "shell.execute_reply": "2024-09-16T12:23:57.476882Z"
    },
    "papermill": {
     "duration": 0.029722,
     "end_time": "2024-09-16T12:23:57.479634",
     "exception": false,
     "start_time": "2024-09-16T12:23:57.449912",
     "status": "completed"
    },
    "tags": []
   },
   "outputs": [],
   "source": [
    "root = Path('../')\n",
    "\n",
    "train_path = root / 'data/original/train-metadata.csv'\n",
    "test_path = root / 'data/original/test-metadata.csv'\n",
    "subm_path = root / 'sample_submission.csv'\n",
    "\n",
    "id_col = 'isic_id'\n",
    "target_col = 'target'\n",
    "group_col = 'patient_id'\n",
    "\n",
    "err = 1e-5\n",
    "sampling_ratio = 0.01\n",
    "seed = 42\n",
    "\n",
    "num_cols = [\n",
    "    'age_approx',                        # Approximate age of patient at time of imaging.\n",
    "    'clin_size_long_diam_mm',            # Maximum diameter of the lesion (mm).+\n",
    "    'tbp_lv_A',                          # A inside  lesion.+\n",
    "    'tbp_lv_Aext',                       # A outside lesion.+\n",
    "    'tbp_lv_B',                          # B inside  lesion.+\n",
    "    'tbp_lv_Bext',                       # B outside lesion.+ \n",
    "    'tbp_lv_C',                          # Chroma inside  lesion.+\n",
    "    'tbp_lv_Cext',                       # Chroma outside lesion.+\n",
    "    'tbp_lv_H',                          # Hue inside the lesion; calculated as the angle of A* and B* in LAB* color space. Typical values range from 25 (red) to 75 (brown).+\n",
    "    'tbp_lv_Hext',                       # Hue outside lesion.+\n",
    "    'tbp_lv_L',                          # L inside lesion.+\n",
    "    'tbp_lv_Lext',                       # L outside lesion.+\n",
    "    'tbp_lv_areaMM2',                    # Area of lesion (mm^2).+\n",
    "    'tbp_lv_area_perim_ratio',           # Border jaggedness, the ratio between lesions perimeter and area. Circular lesions will have low values; irregular shaped lesions will have higher values. Values range 0-10.+\n",
    "    'tbp_lv_color_std_mean',             # Color irregularity, calculated as the variance of colors within the lesion's boundary.\n",
    "    'tbp_lv_deltaA',                     # Average A contrast (inside vs. outside lesion).+\n",
    "    'tbp_lv_deltaB',                     # Average B contrast (inside vs. outside lesion).+\n",
    "    'tbp_lv_deltaL',                     # Average L contrast (inside vs. outside lesion).+\n",
    "    'tbp_lv_deltaLB',                    #\n",
    "    'tbp_lv_deltaLBnorm',                # Contrast between the lesion and its immediate surrounding skin. Low contrast lesions tend to be faintly visible such as freckles; high contrast lesions tend to be those with darker pigment. Calculated as the average delta LB of the lesion relative to its immediate background in LAB* color space. Typical values range from 5.5 to 25.+\n",
    "    'tbp_lv_eccentricity',               # Eccentricity.+\n",
    "    'tbp_lv_minorAxisMM',                # Smallest lesion diameter (mm).+\n",
    "    'tbp_lv_nevi_confidence',            # Nevus confidence score (0-100 scale) is a convolutional neural network classifier estimated probability that the lesion is a nevus. The neural network was trained on approximately 57,000 lesions that were classified and labeled by a dermatologist.+,++\n",
    "    'tbp_lv_norm_border',                # Border irregularity (0-10 scale); the normalized average of border jaggedness and asymmetry.+\n",
    "    'tbp_lv_norm_color',                 # Color variation (0-10 scale); the normalized average of color asymmetry and color irregularity.+\n",
    "    'tbp_lv_perimeterMM',                # Perimeter of lesion (mm).+\n",
    "    'tbp_lv_radial_color_std_max',       # Color asymmetry, a measure of asymmetry of the spatial distribution of color within the lesion. This score is calculated by looking at the average standard deviation in LAB* color space within concentric rings originating from the lesion center. Values range 0-10.+\n",
    "    'tbp_lv_stdL',                       # Standard deviation of L inside  lesion.+\n",
    "    'tbp_lv_stdLExt',                    # Standard deviation of L outside lesion.+\n",
    "    'tbp_lv_symm_2axis',                 # Border asymmetry; a measure of asymmetry of the lesion's contour about an axis perpendicular to the lesion's most symmetric axis. Lesions with two axes of symmetry will therefore have low scores (more symmetric), while lesions with only one or zero axes of symmetry will have higher scores (less symmetric). This score is calculated by comparing opposite halves of the lesion contour over many degrees of rotation. The angle where the halves are most similar identifies the principal axis of symmetry, while the second axis of symmetry is perpendicular to the principal axis. Border asymmetry is reported as the asymmetry value about this second axis. Values range 0-10.+\n",
    "    'tbp_lv_symm_2axis_angle',           # Lesion border asymmetry angle.+\n",
    "    'tbp_lv_x',                          # X-coordinate of the lesion on 3D TBP.+\n",
    "    'tbp_lv_y',                          # Y-coordinate of the lesion on 3D TBP.+\n",
    "    'tbp_lv_z',                          # Z-coordinate of the lesion on 3D TBP.+\n",
    "]\n",
    "\n",
    "\n",
    "new_num_cols = [\n",
    "    'lesion_size_ratio',             # tbp_lv_minorAxisMM      / clin_size_long_diam_mm\n",
    "    'lesion_shape_index',            # tbp_lv_areaMM2          / tbp_lv_perimeterMM **2\n",
    "    'hue_contrast',                  # tbp_lv_H                - tbp_lv_Hext              abs\n",
    "    'luminance_contrast',            # tbp_lv_L                - tbp_lv_Lext              abs\n",
    "    'lesion_color_difference',       # tbp_lv_deltaA **2       + tbp_lv_deltaB **2 + tbp_lv_deltaL **2  sqrt  \n",
    "    'border_complexity',             # tbp_lv_norm_border      + tbp_lv_symm_2axis\n",
    "    'color_uniformity',              # tbp_lv_color_std_mean   / tbp_lv_radial_color_std_max\n",
    "\n",
    "    'position_distance_3d',          # tbp_lv_x **2 + tbp_lv_y **2 + tbp_lv_z **2  sqrt\n",
    "    'perimeter_to_area_ratio',       # tbp_lv_perimeterMM      / tbp_lv_areaMM2\n",
    "    'area_to_perimeter_ratio',       # tbp_lv_areaMM2          / tbp_lv_perimeterMM\n",
    "    'lesion_visibility_score',       # tbp_lv_deltaLBnorm      + tbp_lv_norm_color\n",
    "    'symmetry_border_consistency',   # tbp_lv_symm_2axis       * tbp_lv_norm_border\n",
    "    'consistency_symmetry_border',   # tbp_lv_symm_2axis       * tbp_lv_norm_border / (tbp_lv_symm_2axis + tbp_lv_norm_border)\n",
    "\n",
    "    'color_consistency',             # tbp_lv_stdL             / tbp_lv_Lext\n",
    "    'consistency_color',             # tbp_lv_stdL*tbp_lv_Lext / tbp_lv_stdL + tbp_lv_Lext\n",
    "    'size_age_interaction',          # clin_size_long_diam_mm  * age_approx\n",
    "    'hue_color_std_interaction',     # tbp_lv_H                * tbp_lv_color_std_mean\n",
    "    'lesion_severity_index',         # tbp_lv_norm_border      + tbp_lv_norm_color + tbp_lv_eccentricity / 3\n",
    "    'shape_complexity_index',        # border_complexity       + lesion_shape_index\n",
    "    'color_contrast_index',          # tbp_lv_deltaA + tbp_lv_deltaB + tbp_lv_deltaL + tbp_lv_deltaLBnorm\n",
    "\n",
    "    'log_lesion_area',               # tbp_lv_areaMM2          + 1  np.log\n",
    "    'normalized_lesion_size',        # clin_size_long_diam_mm  / age_approx\n",
    "    'mean_hue_difference',           # tbp_lv_H                + tbp_lv_Hext    / 2\n",
    "    'std_dev_contrast',              # tbp_lv_deltaA **2 + tbp_lv_deltaB **2 + tbp_lv_deltaL **2   / 3  np.sqrt\n",
    "    'color_shape_composite_index',   # tbp_lv_color_std_mean   + bp_lv_area_perim_ratio + tbp_lv_symm_2axis   / 3\n",
    "    'lesion_orientation_3d',         # tbp_lv_y                , tbp_lv_x  np.arctan2\n",
    "    'overall_color_difference',      # tbp_lv_deltaA           + tbp_lv_deltaB + tbp_lv_deltaL   / 3\n",
    "\n",
    "    'symmetry_perimeter_interaction',# tbp_lv_symm_2axis       * tbp_lv_perimeterMM\n",
    "    'comprehensive_lesion_index',    # tbp_lv_area_perim_ratio + tbp_lv_eccentricity + bp_lv_norm_color + tbp_lv_symm_2axis   / 4\n",
    "    'color_variance_ratio',          # tbp_lv_color_std_mean   / tbp_lv_stdLExt\n",
    "    'border_color_interaction',      # tbp_lv_norm_border      * tbp_lv_norm_color\n",
    "    'border_color_interaction_2',\n",
    "    'size_color_contrast_ratio',     # clin_size_long_diam_mm  / tbp_lv_deltaLBnorm\n",
    "    'age_normalized_nevi_confidence',# tbp_lv_nevi_confidence  / age_approx\n",
    "    'age_normalized_nevi_confidence_2',\n",
    "    'color_asymmetry_index',         # tbp_lv_symm_2axis       * tbp_lv_radial_color_std_max\n",
    "\n",
    "    'volume_approximation_3d',       # tbp_lv_areaMM2          * sqrt(tbp_lv_x**2 + tbp_lv_y**2 + tbp_lv_z**2)\n",
    "    'color_range',                   # abs(tbp_lv_L - tbp_lv_Lext) + abs(tbp_lv_A - tbp_lv_Aext) + abs(tbp_lv_B - tbp_lv_Bext)\n",
    "    'shape_color_consistency',       # tbp_lv_eccentricity     * tbp_lv_color_std_mean\n",
    "    'border_length_ratio',           # tbp_lv_perimeterMM      / pi * sqrt(tbp_lv_areaMM2 / pi)\n",
    "    'age_size_symmetry_index',       # age_approx              * clin_size_long_diam_mm * tbp_lv_symm_2axis\n",
    "    'index_age_size_symmetry',       # age_approx              * tbp_lv_areaMM2 * tbp_lv_symm_2axis\n",
    "]\n",
    "\n",
    "\n",
    "cat_cols = ['sex', 'anatom_site_general', 'tbp_tile_type', 'tbp_lv_location', 'tbp_lv_location_simple', 'attribution']\n",
    "norm_cols = [f'{col}_patient_norm' for col in num_cols + new_num_cols]\n",
    "special_cols = ['count_per_patient', \"tbp_lv_areaMM2_patient\", \"tbp_lv_areaMM2_bp\"] #'count_per_patient_bp'\n",
    "# feature_cols = num_cols + new_num_cols + cat_cols + norm_cols + special_cols\n",
    "feature_cols = num_cols + cat_cols"
   ]
  },
  {
   "cell_type": "code",
   "execution_count": 61,
   "id": "0db9f52e",
   "metadata": {},
   "outputs": [
    {
     "data": {
      "text/plain": [
       "40"
      ]
     },
     "execution_count": 61,
     "metadata": {},
     "output_type": "execute_result"
    }
   ],
   "source": [
    "len(feature_cols)"
   ]
  },
  {
   "cell_type": "code",
   "execution_count": 62,
   "id": "35f9d16b",
   "metadata": {},
   "outputs": [
    {
     "data": {
      "text/plain": [
       "76"
      ]
     },
     "execution_count": 62,
     "metadata": {},
     "output_type": "execute_result"
    }
   ],
   "source": [
    "len(norm_cols)"
   ]
  },
  {
   "cell_type": "code",
   "execution_count": 63,
   "id": "fc1e06e6",
   "metadata": {},
   "outputs": [],
   "source": [
    "# temp = pd.read_csv(\"../data/original/train-metadata.csv\")\n",
    "# temp['tbp_tile_type'].unique()"
   ]
  },
  {
   "cell_type": "code",
   "execution_count": 64,
   "id": "72ee8d02",
   "metadata": {},
   "outputs": [],
   "source": [
    "# feature_cols1 = feature_cols"
   ]
  },
  {
   "cell_type": "markdown",
   "id": "8ddecdea",
   "metadata": {},
   "source": [
    "# EVA Config"
   ]
  },
  {
   "cell_type": "code",
   "execution_count": 65,
   "id": "129ecbc7",
   "metadata": {
    "execution": {
     "iopub.execute_input": "2024-09-16T12:23:57.504660Z",
     "iopub.status.busy": "2024-09-16T12:23:57.503922Z",
     "iopub.status.idle": "2024-09-16T12:24:00.250879Z",
     "shell.execute_reply": "2024-09-16T12:24:00.249642Z"
    },
    "papermill": {
     "duration": 2.762547,
     "end_time": "2024-09-16T12:24:00.253585",
     "exception": false,
     "start_time": "2024-09-16T12:23:57.491038",
     "status": "completed"
    },
    "tags": []
   },
   "outputs": [
    {
     "name": "stdout",
     "output_type": "stream",
     "text": [
      "Using device: cuda\n",
      "GPU: NVIDIA GeForce RTX 3090 Ti\n",
      "Number of GPUs: 1\n"
     ]
    },
    {
     "name": "stderr",
     "output_type": "stream",
     "text": [
      "100%|██████████| 1/1 [00:00<00:00, 13.21it/s]\n"
     ]
    }
   ],
   "source": [
    "test_df = pd.read_csv(test_path)\n",
    "test_h5 = root / 'data/original/test-image.hdf5'\n",
    "\n",
    "# Set up device and random seed\n",
    "device = torch.device(\"cuda\" if torch.cuda.is_available() else \"cpu\")\n",
    "print(f\"Using device: {device}\")\n",
    "\n",
    "if torch.cuda.is_available():\n",
    "    print(f\"GPU: {torch.cuda.get_device_name(0)}\")\n",
    "    print(f\"Number of GPUs: {torch.cuda.device_count()}\")\n",
    "\n",
    "# device = torch.device(\"cpu\")\n",
    "\n",
    "CONFIG = {\n",
    "    \"seed\": 42,\n",
    "    \"epochs\": 500,\n",
    "    \"img_size\": 336, #336,\n",
    "    \"model_name\": 'eva02_small_patch14_336.mim_in22k_ft_in1k',\n",
    "    \"train_batch_size\": 32,\n",
    "    \"valid_batch_size\": 64,\n",
    "    \"learning_rate\": 1e-4,\n",
    "    \"scheduler\": 'CosineAnnealingLR',\n",
    "    \"min_lr\": 1e-6,\n",
    "    \"T_max\": 2000,\n",
    "    \"weight_decay\": 1e-6,\n",
    "    \"fold\" : 0,\n",
    "    \"n_fold\": 5,\n",
    "    \"n_accumulate\": 1,\n",
    "    \"group_col\": 'patient_id',\n",
    "    \"device\": device\n",
    "}\n",
    "\n",
    "transformations_base = A.Compose([\n",
    "    A.Resize(CONFIG['img_size'], CONFIG['img_size']),\n",
    "    A.Normalize(\n",
    "            mean=[0.4815, 0.4578, 0.4082], \n",
    "            std=[0.2686, 0.2613, 0.2758], \n",
    "            max_pixel_value=255.0,\n",
    "            p=1.0\n",
    "        ),\n",
    "    ToTensorV2(),\n",
    "    ], p=1.)\n",
    "\n",
    "def set_seed(random_seed):\n",
    "    random.seed(random_seed)\n",
    "    torch.manual_seed(random_seed)\n",
    "    np.random.seed(random_seed)\n",
    "    if torch.cuda.is_available():\n",
    "        torch.cuda.manual_seed(random_seed)\n",
    "        torch.cuda.manual_seed_all(random_seed)\n",
    "        torch.backends.cudnn.deterministic = True\n",
    "        torch.backends.cudnn.benchmark = False\n",
    "        \n",
    "        \n",
    "class ISICModel(nn.Module):\n",
    "    def __init__(self, model_name, num_classes=1, drop_path_rate=0, drop_rate=0, pretrained=True, checkpoint_path=None):\n",
    "        super(ISICModel, self).__init__()\n",
    "        self.model = timm.create_model(\n",
    "            model_name, \n",
    "            pretrained=pretrained, \n",
    "            heckpoint_path=checkpoint_path,\n",
    "            drop_rate=drop_rate, \n",
    "            drop_path_rate=drop_path_rate)\n",
    "\n",
    "        in_features = self.model.head.in_features\n",
    "        self.model.head = nn.Linear(in_features, num_classes)\n",
    "        self.sigmoid = nn.Sigmoid() if num_classes == 1 else nn.Softmax()\n",
    "\n",
    "    def forward(self, images):\n",
    "        return self.sigmoid(self.model(images))\n",
    "    \n",
    "    \n",
    "    \n",
    "class ISICDataset(Dataset):\n",
    "    def __init__(self, df, file_hdf, transforms=None):\n",
    "        self.df = df\n",
    "        self.file_hdf = file_hdf  # store path, not file handle\n",
    "        self.isic_ids = df['isic_id'].values\n",
    "        self.targets = df['target'].values\n",
    "        self.transforms = transforms\n",
    "        \n",
    "    def __len__(self):\n",
    "        return len(self.isic_ids)\n",
    "    \n",
    "    def __getitem__(self, index):\n",
    "        isic_id = self.isic_ids[index]\n",
    "        \n",
    "        with h5py.File(self.file_hdf, mode=\"r\") as fp_hdf:\n",
    "            img = np.array(Image.open(BytesIO(fp_hdf[isic_id][()])))\n",
    "        \n",
    "        target = self.targets[index]\n",
    "        \n",
    "        if self.transforms:\n",
    "            img = self.transforms(image=img)[\"image\"]\n",
    "            \n",
    "        return {\n",
    "            'image': img,\n",
    "            'target': target,\n",
    "        }\n",
    "\n",
    "\n",
    "def prepare_loaders(df_train, h5_file, augmentations, CONFIG, num_workers=10):\n",
    "    \n",
    "    train_dataset = ISICDataset(df_train, h5_file, transforms=augmentations)\n",
    "\n",
    "    train_loader = DataLoader(train_dataset, batch_size=CONFIG['train_batch_size'], \n",
    "                              num_workers=num_workers, shuffle=False, pin_memory=True, drop_last=False)\n",
    "    \n",
    "    return train_loader\n",
    "\n",
    "\n",
    "@torch.inference_mode()\n",
    "def generate_predictions(model, dataloader, device):\n",
    "    model.eval()\n",
    "    \n",
    "\n",
    "    bar = tqdm(enumerate(dataloader), total=len(dataloader))\n",
    "    predictions_all = []\n",
    "    targets_all = []\n",
    "    for step, data in bar:        \n",
    "        images = data['image'].to(device, dtype=torch.float)\n",
    "        targets = data['target'].to(device, dtype=torch.float)\n",
    "        \n",
    "        batch_size = images.size(0)\n",
    "\n",
    "        outputs = model(images).squeeze()\n",
    "\n",
    "        predictions_all.append(outputs.cpu().numpy())\n",
    "        targets_all.append(targets.cpu().numpy())\n",
    "    \n",
    "    gc.collect()\n",
    "\n",
    "    targets_all = np.concatenate(targets_all)\n",
    "    predictions_all = np.concatenate(predictions_all)\n",
    "    \n",
    "    return targets_all, predictions_all\n",
    "\n",
    "\n",
    "model = ISICModel(CONFIG['model_name'], pretrained=False, num_classes=3)\n",
    "model.load_state_dict( torch.load('../weights/skin-models-base/ema_small_pretrained', weights_only=True) )\n",
    "model.to(CONFIG['device']);\n",
    "\n",
    "test_df[\"path\"] = '../data/original/test-image/image/' + test_df['isic_id'] + \".jpg\"\n",
    "test_df['target'] = 0\n",
    "data_loader_test = prepare_loaders(test_df, test_h5, transformations_base, CONFIG, num_workers=0)\n",
    "\n",
    "targets_all, predictions_all = generate_predictions(model, data_loader_test, device)\n",
    "\n",
    "test_df['old_set_0'] = predictions_all[:, 0]\n",
    "test_df['old_set_1'] = predictions_all[:, 1]\n",
    "test_df['old_set_2'] = predictions_all[:, 2]\n",
    "\n",
    "test_df[['isic_id', 'old_set_0', 'old_set_1', 'old_set_2']].to_parquet(\n",
    "    'old_data_model_forecast__test.parquet')\n",
    "model.to('cpu');"
   ]
  },
  {
   "cell_type": "markdown",
   "id": "49768272",
   "metadata": {},
   "source": [
    "# EVA Pred on Test"
   ]
  },
  {
   "cell_type": "code",
   "execution_count": 66,
   "id": "08ab9528",
   "metadata": {
    "execution": {
     "iopub.execute_input": "2024-09-16T12:24:00.285456Z",
     "iopub.status.busy": "2024-09-16T12:24:00.285060Z",
     "iopub.status.idle": "2024-09-16T12:24:08.110705Z",
     "shell.execute_reply": "2024-09-16T12:24:08.109822Z"
    },
    "papermill": {
     "duration": 7.843191,
     "end_time": "2024-09-16T12:24:08.112854",
     "exception": false,
     "start_time": "2024-09-16T12:24:00.269663",
     "status": "completed"
    },
    "tags": []
   },
   "outputs": [
    {
     "name": "stderr",
     "output_type": "stream",
     "text": [
      "100%|██████████| 1/1 [00:00<00:00, 43.44it/s]\n",
      "100%|██████████| 1/1 [00:00<00:00, 46.09it/s]\n",
      "100%|██████████| 1/1 [00:00<00:00, 63.41it/s]\n",
      "100%|██████████| 1/1 [00:00<00:00, 34.15it/s]\n",
      "100%|██████████| 1/1 [00:00<00:00, 23.37it/s]\n"
     ]
    }
   ],
   "source": [
    "test_df = pd.read_csv(test_path)\n",
    "\n",
    "test_df[\"path\"] = '../data/original/test-image/image/' + test_df['isic_id'] + \".jpg\"\n",
    "test_df['target'] = 0\n",
    "data_loader_test = prepare_loaders(test_df, test_h5, transformations_base, CONFIG, num_workers=0)\n",
    "predctions_all = []\n",
    "\n",
    "base_model_path = \"../weights/eva\"\n",
    "for base_model_index in range(5):\n",
    "    base_model_full_path = os.path.join(base_model_path, f\"model__{base_model_index}\")\n",
    "    \n",
    "    model = ISICModel(CONFIG['model_name'], pretrained=False, num_classes=1)\n",
    "    model.load_state_dict(torch.load(base_model_full_path, weights_only=True))\n",
    "    model.to(CONFIG['device']);\n",
    "    targets_all, predictions_all = generate_predictions(model, data_loader_test, device)\n",
    "    test_df[f\"predictions__{base_model_index}\"] = predictions_all\n",
    "    model.to('cpu');\n",
    "    \n",
    "test_df = test_df[\n",
    "    ['isic_id', 'patient_id',\n",
    "         'predictions__0', 'predictions__1', 'predictions__2', 'predictions__3', 'predictions__4']\n",
    "].reset_index(drop=True)"
   ]
  },
  {
   "cell_type": "code",
   "execution_count": 67,
   "id": "c472ed0f",
   "metadata": {
    "execution": {
     "iopub.execute_input": "2024-09-16T12:24:08.141167Z",
     "iopub.status.busy": "2024-09-16T12:24:08.140592Z",
     "iopub.status.idle": "2024-09-16T12:24:08.146900Z",
     "shell.execute_reply": "2024-09-16T12:24:08.145567Z"
    },
    "papermill": {
     "duration": 0.022628,
     "end_time": "2024-09-16T12:24:08.149005",
     "exception": false,
     "start_time": "2024-09-16T12:24:08.126377",
     "status": "completed"
    },
    "tags": []
   },
   "outputs": [],
   "source": [
    "def add_pation_norm(df, column_name: str, column_name_new: str):\n",
    "    df = df.merge(\n",
    "        df.groupby(\"patient_id\").agg(**{\n",
    "            column_name_new: pd.NamedAgg(column_name, 'mean')\n",
    "        }).reset_index(), how=\"left\", on=[\"patient_id\"])\n",
    "\n",
    "    df[column_name_new] = df[column_name] / df[column_name_new]\n",
    "    return df"
   ]
  },
  {
   "cell_type": "code",
   "execution_count": 68,
   "id": "759258a5",
   "metadata": {
    "execution": {
     "iopub.execute_input": "2024-09-16T12:24:08.175945Z",
     "iopub.status.busy": "2024-09-16T12:24:08.175697Z",
     "iopub.status.idle": "2024-09-16T12:24:09.894182Z",
     "shell.execute_reply": "2024-09-16T12:24:09.893385Z"
    },
    "papermill": {
     "duration": 1.734512,
     "end_time": "2024-09-16T12:24:09.896530",
     "exception": false,
     "start_time": "2024-09-16T12:24:08.162018",
     "status": "completed"
    },
    "tags": []
   },
   "outputs": [],
   "source": [
    "oof_forecasts_eva = pd.read_parquet('../data/artifacts/oof_forecasts_eva_base.parquet')\n",
    "oof_forecasts_eva_agg = oof_forecasts_eva.groupby('fold_n').agg(**{\n",
    "        \"mean_preds\": pd.NamedAgg(\"tmp_predictions_all\", \"mean\"),\n",
    "        \"std_preds\": pd.NamedAgg(\"tmp_predictions_all\", \"std\")})\n",
    "\n",
    "#Scaling works better on both public and private leaderboards when it is done using values from just one fold\n",
    "for i in range(2):\n",
    "    test_df[f'predictions__{i}'] = (\n",
    "        test_df[f'predictions__{i}'] - oof_forecasts_eva_agg.loc[0].mean_preds\n",
    "    ) / oof_forecasts_eva_agg.loc[0].std_preds\n",
    "    \n",
    "test_df[\"predictions_eva\"] = test_df[[f'predictions__{i}' for i in range(2)]].mean(axis=1)\n",
    "test_df_eva = test_df.copy()\n",
    "\n",
    "\n",
    "# tmp_predictions_all_rank_pr\n",
    "# print(oof_forecasts_eva.columns)\n",
    "oof_forecasts_eva = oof_forecasts_eva[['isic_id', 'patient_id', 'tmp_predictions_all']].rename(columns={\n",
    "    'tmp_predictions_all': 'predictions_eva'\n",
    "})\n",
    "\n",
    "test_df_eva = add_pation_norm(\n",
    "    test_df_eva, column_name='predictions_eva', column_name_new='predictions_eva_m')\n",
    "oof_forecasts_eva = add_pation_norm(\n",
    "    oof_forecasts_eva, column_name='predictions_eva', column_name_new='predictions_eva_m')"
   ]
  },
  {
   "cell_type": "code",
   "execution_count": 69,
   "id": "95f28d1a",
   "metadata": {},
   "outputs": [],
   "source": [
    "# Why patient wise score normalization is useful? (predictions_eva_m)\n",
    "\n",
    "# → In medical images (like ISIC skin cancer):\n",
    "\n",
    "#     Same patient can have very bright/dark/unique images.\n",
    "\n",
    "#     But ranking within the same patient helps model not get confused.\n",
    "\n",
    "#     This reduces bias from weird patients who always get very high or low scores.\n",
    "\n",
    "# Why do we need predictions_eva_m?\n",
    "\n",
    "# → Intuition:\n",
    "\n",
    "#     In ISIC dataset:\n",
    "\n",
    "#         One patient may have multiple lesions/images.\n",
    "\n",
    "#         If a model tends to over-score/under-score all images of a patient → it hurts LB performance.\n",
    "\n",
    "# → Solution:\n",
    "\n",
    "#     Normalize prediction within each patient.\n",
    "\n",
    "#     Ensure relative ranking between images is preserved across patients."
   ]
  },
  {
   "cell_type": "markdown",
   "id": "03796073",
   "metadata": {},
   "source": [
    "# EdgeNeXt Config"
   ]
  },
  {
   "cell_type": "code",
   "execution_count": 70,
   "id": "6f4c0296",
   "metadata": {
    "execution": {
     "iopub.execute_input": "2024-09-16T12:24:09.924901Z",
     "iopub.status.busy": "2024-09-16T12:24:09.924579Z",
     "iopub.status.idle": "2024-09-16T12:24:09.930445Z",
     "shell.execute_reply": "2024-09-16T12:24:09.929595Z"
    },
    "papermill": {
     "duration": 0.021838,
     "end_time": "2024-09-16T12:24:09.932347",
     "exception": false,
     "start_time": "2024-09-16T12:24:09.910509",
     "status": "completed"
    },
    "tags": []
   },
   "outputs": [],
   "source": [
    "class ISICModelEdgnet(nn.Module):\n",
    "    def __init__(self, model_name, num_classes=1, pretrained=True, checkpoint_path=None, *args, **kwargs):\n",
    "        super(ISICModelEdgnet, self).__init__()\n",
    "        self.model = timm.create_model(model_name, pretrained=pretrained, num_classes=num_classes, global_pool='avg')\n",
    "        self.sigmoid = nn.Sigmoid()\n",
    "    def forward(self, images):\n",
    "        return self.sigmoid(self.model(images))"
   ]
  },
  {
   "cell_type": "code",
   "execution_count": 71,
   "id": "a31a0bab",
   "metadata": {
    "execution": {
     "iopub.execute_input": "2024-09-16T12:24:09.959798Z",
     "iopub.status.busy": "2024-09-16T12:24:09.959548Z",
     "iopub.status.idle": "2024-09-16T12:24:09.968115Z",
     "shell.execute_reply": "2024-09-16T12:24:09.967333Z"
    },
    "papermill": {
     "duration": 0.024335,
     "end_time": "2024-09-16T12:24:09.969971",
     "exception": false,
     "start_time": "2024-09-16T12:24:09.945636",
     "status": "completed"
    },
    "tags": []
   },
   "outputs": [],
   "source": [
    "class ISICModelEdgnet(nn.Module):\n",
    "    def __init__(self, model_name, num_classes=1, pretrained=True, checkpoint_path=None, *args, **kwargs):\n",
    "        super(ISICModelEdgnet, self).__init__()\n",
    "        self.model = timm.create_model(model_name, pretrained=pretrained, num_classes=num_classes, global_pool='avg')\n",
    "        self.sigmoid = nn.Sigmoid()\n",
    "    def forward(self, images):\n",
    "        return self.sigmoid(self.model(images))\n",
    "    \n",
    "\n",
    "CONFIG = {\n",
    "    \"seed\": 42,\n",
    "    \"epochs\": 500,\n",
    "    \"img_size\": 256, #336,\n",
    "#     \"model_name\": 'eva02_small_patch14_336.mim_in22k_ft_in1k',\n",
    "    \"train_batch_size\": 32,\n",
    "    \"valid_batch_size\": 64,\n",
    "    \"learning_rate\": 1e-4,\n",
    "    \"scheduler\": 'CosineAnnealingLR',\n",
    "    \"min_lr\": 1e-6,\n",
    "    \"T_max\": 2000,\n",
    "    \"weight_decay\": 1e-6,\n",
    "    \"fold\" : 0,\n",
    "    \"n_fold\": 5,\n",
    "    \"n_accumulate\": 1,\n",
    "    \"group_col\": 'patient_id',\n",
    "    \"device\": device\n",
    "}\n",
    "\n",
    "transformations_base = A.Compose([\n",
    "    A.Resize(CONFIG['img_size'], CONFIG['img_size']),\n",
    "    A.Normalize(\n",
    "            mean=[0.4815, 0.4578, 0.4082], \n",
    "            std=[0.2686, 0.2613, 0.2758], \n",
    "            max_pixel_value=255.0,\n",
    "            p=1.0\n",
    "        ),\n",
    "    ToTensorV2(),\n",
    "    ], p=1.)"
   ]
  },
  {
   "cell_type": "markdown",
   "id": "7aa49330",
   "metadata": {},
   "source": [
    "# EdgeNeXt Preds on Test"
   ]
  },
  {
   "cell_type": "code",
   "execution_count": 72,
   "id": "87127159",
   "metadata": {
    "execution": {
     "iopub.execute_input": "2024-09-16T12:24:09.996862Z",
     "iopub.status.busy": "2024-09-16T12:24:09.996610Z",
     "iopub.status.idle": "2024-09-16T12:24:19.248428Z",
     "shell.execute_reply": "2024-09-16T12:24:19.247319Z"
    },
    "papermill": {
     "duration": 9.26876,
     "end_time": "2024-09-16T12:24:19.251624",
     "exception": false,
     "start_time": "2024-09-16T12:24:09.982864",
     "status": "completed"
    },
    "tags": []
   },
   "outputs": [
    {
     "name": "stderr",
     "output_type": "stream",
     "text": [
      "100%|██████████| 1/1 [00:00<00:00, 29.54it/s]\n",
      "100%|██████████| 1/1 [00:00<00:00, 25.08it/s]\n",
      "100%|██████████| 1/1 [00:00<00:00, 35.20it/s]\n",
      "100%|██████████| 1/1 [00:00<00:00, 27.83it/s]\n",
      "100%|██████████| 1/1 [00:00<00:00, 33.53it/s]\n"
     ]
    }
   ],
   "source": [
    "test_df = pd.read_csv(test_path)\n",
    "\n",
    "test_df[\"path\"] = '../data/original/test-image/image/' + test_df['isic_id'] + \".jpg\"\n",
    "test_df['target'] = 0\n",
    "data_loader_test = prepare_loaders(test_df, test_h5, transformations_base, CONFIG, num_workers=0)\n",
    "\n",
    "\n",
    "base_model_path = \"../weights/edgenet\"\n",
    "for base_model_index in range(5):\n",
    "    base_model_full_path = os.path.join(base_model_path, f\"model__{base_model_index}\")\n",
    "    \n",
    "    model = ISICModelEdgnet('edgenext_base.in21k_ft_in1k', pretrained=False, num_classes=1)\n",
    "    model.load_state_dict(torch.load(base_model_full_path, weights_only=True))\n",
    "    model.to(CONFIG['device']);\n",
    "    targets_all, predictions_all = generate_predictions(model, data_loader_test, device)\n",
    "    test_df[f\"predictions__{base_model_index}\"] = predictions_all\n",
    "    model.to('cpu');\n",
    "    \n",
    "oof_forecasts_edgenext = pd.read_parquet('../data/artifacts/oof_forecasts_edgenext_base.parquet')\n",
    "oof_forecasts_edgenext_agg = oof_forecasts_edgenext.groupby('fold_n').agg(**{\n",
    "        \"mean_preds\": pd.NamedAgg(\"tmp_predictions_all\", \"mean\"),\n",
    "        \"std_preds\": pd.NamedAgg(\"tmp_predictions_all\", \"std\")})\n",
    "\n",
    "#Scaling works better on both public and private leaderboards when it is done using values from just one fold\n",
    "for i in range(5):\n",
    "    test_df[f'predictions__{i}'] = (\n",
    "        test_df[f'predictions__{i}'] - oof_forecasts_edgenext_agg.loc[0].mean_preds\n",
    "    ) / oof_forecasts_edgenext_agg.loc[0].std_preds\n",
    "    \n",
    "test_df[\"predictions_edg\"] = test_df[[f'predictions__{i}' for i in range(5)]].mean(axis=1)\n",
    "test_df = test_df[['isic_id', 'patient_id', 'predictions_edg']].reset_index(drop=True)\n",
    "test_df_edg = test_df.copy()\n",
    "\n",
    "\n",
    "oof_forecasts_edgenext = oof_forecasts_edgenext[['isic_id', 'patient_id', 'tmp_predictions_all']].rename(columns={\n",
    "    'tmp_predictions_all': 'predictions_edg'\n",
    "})\n",
    "\n",
    "\n",
    "test_df_edg = add_pation_norm(\n",
    "    test_df_edg, column_name='predictions_edg', column_name_new='predictions_edg_m')\n",
    "oof_forecasts_edgenext = add_pation_norm(\n",
    "    oof_forecasts_edgenext, column_name='predictions_edg', column_name_new='predictions_edg_m')"
   ]
  },
  {
   "cell_type": "markdown",
   "id": "c198de4f",
   "metadata": {},
   "source": [
    "# Data Read & Feature Engineering"
   ]
  },
  {
   "cell_type": "code",
   "execution_count": 73,
   "id": "32a30c54",
   "metadata": {
    "execution": {
     "iopub.execute_input": "2024-09-16T12:24:19.282414Z",
     "iopub.status.busy": "2024-09-16T12:24:19.282077Z",
     "iopub.status.idle": "2024-09-16T12:24:19.310474Z",
     "shell.execute_reply": "2024-09-16T12:24:19.309376Z"
    },
    "papermill": {
     "duration": 0.04603,
     "end_time": "2024-09-16T12:24:19.312475",
     "exception": false,
     "start_time": "2024-09-16T12:24:19.266445",
     "status": "completed"
    },
    "tags": []
   },
   "outputs": [],
   "source": [
    "def read_data(path):\n",
    "    return (\n",
    "        pl.read_csv(path)\n",
    "        .with_columns(\n",
    "            pl.col('age_approx').cast(pl.String).replace('NA', np.nan).cast(pl.Float64),\n",
    "        )\n",
    "        .with_columns(\n",
    "            pl.col(pl.Float64).fill_nan(pl.col(pl.Float64).median()), # You may want to impute test data with train\n",
    "        )\n",
    "        .with_columns(\n",
    "            lesion_size_ratio              = pl.col('tbp_lv_minorAxisMM') / pl.col('clin_size_long_diam_mm'),\n",
    "            lesion_shape_index             = pl.col('tbp_lv_areaMM2') / (pl.col('tbp_lv_perimeterMM') ** 2),\n",
    "            hue_contrast                   = (pl.col('tbp_lv_H') - pl.col('tbp_lv_Hext')).abs(),\n",
    "            luminance_contrast             = (pl.col('tbp_lv_L') - pl.col('tbp_lv_Lext')).abs(),\n",
    "            lesion_color_difference        = (pl.col('tbp_lv_deltaA') ** 2 + pl.col('tbp_lv_deltaB') ** 2 + pl.col('tbp_lv_deltaL') ** 2).sqrt(),\n",
    "            border_complexity              = pl.col('tbp_lv_norm_border') + pl.col('tbp_lv_symm_2axis'),\n",
    "            color_uniformity               = pl.col('tbp_lv_color_std_mean') / (pl.col('tbp_lv_radial_color_std_max') + err),\n",
    "        )\n",
    "        .with_columns(\n",
    "            position_distance_3d           = (pl.col('tbp_lv_x') ** 2 + pl.col('tbp_lv_y') ** 2 + pl.col('tbp_lv_z') ** 2).sqrt(),\n",
    "            perimeter_to_area_ratio        = pl.col('tbp_lv_perimeterMM') / pl.col('tbp_lv_areaMM2'),\n",
    "            area_to_perimeter_ratio        = pl.col('tbp_lv_areaMM2') / pl.col('tbp_lv_perimeterMM'),\n",
    "            lesion_visibility_score        = pl.col('tbp_lv_deltaLBnorm') + pl.col('tbp_lv_norm_color'),\n",
    "            combined_anatomical_site       = pl.col('anatom_site_general') + '_' + pl.col('tbp_lv_location'),\n",
    "            symmetry_border_consistency    = pl.col('tbp_lv_symm_2axis') * pl.col('tbp_lv_norm_border'),\n",
    "            consistency_symmetry_border    = pl.col('tbp_lv_symm_2axis') * pl.col('tbp_lv_norm_border') / (pl.col('tbp_lv_symm_2axis') + pl.col('tbp_lv_norm_border')),\n",
    "        )\n",
    "        .with_columns(\n",
    "            color_consistency              = pl.col('tbp_lv_stdL') / pl.col('tbp_lv_Lext'),\n",
    "            consistency_color              = pl.col('tbp_lv_stdL') * pl.col('tbp_lv_Lext') / (pl.col('tbp_lv_stdL') + pl.col('tbp_lv_Lext')),\n",
    "            size_age_interaction           = pl.col('clin_size_long_diam_mm') * pl.col('age_approx'),\n",
    "            hue_color_std_interaction      = pl.col('tbp_lv_H') * pl.col('tbp_lv_color_std_mean'),\n",
    "            lesion_severity_index          = (pl.col('tbp_lv_norm_border') + pl.col('tbp_lv_norm_color') + pl.col('tbp_lv_eccentricity')) / 3,\n",
    "            shape_complexity_index         = pl.col('border_complexity') + pl.col('lesion_shape_index'),\n",
    "            color_contrast_index           = pl.col('tbp_lv_deltaA') + pl.col('tbp_lv_deltaB') + pl.col('tbp_lv_deltaL') + pl.col('tbp_lv_deltaLBnorm'),\n",
    "        )\n",
    "        .with_columns(\n",
    "            log_lesion_area                = (pl.col('tbp_lv_areaMM2') + 1).log(),\n",
    "            normalized_lesion_size         = pl.col('clin_size_long_diam_mm') / pl.col('age_approx'),\n",
    "            mean_hue_difference            = (pl.col('tbp_lv_H') + pl.col('tbp_lv_Hext')) / 2,\n",
    "            std_dev_contrast               = ((pl.col('tbp_lv_deltaA') ** 2 + pl.col('tbp_lv_deltaB') ** 2 + pl.col('tbp_lv_deltaL') ** 2) / 3).sqrt(),\n",
    "            color_shape_composite_index    = (pl.col('tbp_lv_color_std_mean') + pl.col('tbp_lv_area_perim_ratio') + pl.col('tbp_lv_symm_2axis')) / 3,\n",
    "            lesion_orientation_3d          = pl.arctan2(pl.col('tbp_lv_y'), pl.col('tbp_lv_x')),\n",
    "            overall_color_difference       = (pl.col('tbp_lv_deltaA') + pl.col('tbp_lv_deltaB') + pl.col('tbp_lv_deltaL')) / 3,\n",
    "        )\n",
    "        .with_columns(\n",
    "            symmetry_perimeter_interaction = pl.col('tbp_lv_symm_2axis') * pl.col('tbp_lv_perimeterMM'),\n",
    "            comprehensive_lesion_index     = (pl.col('tbp_lv_area_perim_ratio') + pl.col('tbp_lv_eccentricity') + pl.col('tbp_lv_norm_color') + pl.col('tbp_lv_symm_2axis')) / 4,\n",
    "            color_variance_ratio           = pl.col('tbp_lv_color_std_mean') / pl.col('tbp_lv_stdLExt'),\n",
    "            border_color_interaction       = pl.col('tbp_lv_norm_border') * pl.col('tbp_lv_norm_color'),\n",
    "            border_color_interaction_2     = pl.col('tbp_lv_norm_border') * pl.col('tbp_lv_norm_color') / (pl.col('tbp_lv_norm_border') + pl.col('tbp_lv_norm_color')),\n",
    "            size_color_contrast_ratio      = pl.col('clin_size_long_diam_mm') / pl.col('tbp_lv_deltaLBnorm'),\n",
    "            age_normalized_nevi_confidence = pl.col('tbp_lv_nevi_confidence') / pl.col('age_approx'),\n",
    "            age_normalized_nevi_confidence_2 = (pl.col('clin_size_long_diam_mm')**2 + pl.col('age_approx')**2).sqrt(),\n",
    "            color_asymmetry_index          = pl.col('tbp_lv_radial_color_std_max') * pl.col('tbp_lv_symm_2axis'),\n",
    "        )\n",
    "        .with_columns(\n",
    "            volume_approximation_3d        = pl.col('tbp_lv_areaMM2') * (pl.col('tbp_lv_x')**2 + pl.col('tbp_lv_y')**2 + pl.col('tbp_lv_z')**2).sqrt(),\n",
    "            color_range                    = (pl.col('tbp_lv_L') - pl.col('tbp_lv_Lext')).abs() + (pl.col('tbp_lv_A') - pl.col('tbp_lv_Aext')).abs() + (pl.col('tbp_lv_B') - pl.col('tbp_lv_Bext')).abs(),\n",
    "            shape_color_consistency        = pl.col('tbp_lv_eccentricity') * pl.col('tbp_lv_color_std_mean'),\n",
    "            border_length_ratio            = pl.col('tbp_lv_perimeterMM') / (2 * np.pi * (pl.col('tbp_lv_areaMM2') / np.pi).sqrt()),\n",
    "            age_size_symmetry_index        = pl.col('age_approx') * pl.col('clin_size_long_diam_mm') * pl.col('tbp_lv_symm_2axis'),\n",
    "            index_age_size_symmetry        = pl.col('age_approx') * pl.col('tbp_lv_areaMM2') * pl.col('tbp_lv_symm_2axis'),\n",
    "        )\n",
    "        .with_columns(\n",
    "            ((pl.col(col) - pl.col(col).mean().over('patient_id')) / (pl.col(col).std().over('patient_id') + err)).alias(f'{col}_patient_norm') for col in (num_cols + new_num_cols)\n",
    "        )\n",
    "        .with_columns(\n",
    "            count_per_patient = pl.col('isic_id').count().over('patient_id'),\n",
    "        )\n",
    "        .with_columns(\n",
    "            tbp_lv_areaMM2_patient = pl.col('tbp_lv_areaMM2').sum().over('patient_id'),\n",
    "        )\n",
    "        .with_columns(\n",
    "            tbp_lv_areaMM2_bp = pl.col('tbp_lv_areaMM2').sum().over(['patient_id', 'anatom_site_general']),\n",
    "        )\n",
    "        .with_columns(\n",
    "            pl.col(cat_cols).cast(pl.Categorical),\n",
    "        )\n",
    "        .to_pandas()\n",
    "        .set_index(id_col)\n",
    "    )"
   ]
  },
  {
   "cell_type": "code",
   "execution_count": 74,
   "id": "e6448c80",
   "metadata": {
    "execution": {
     "iopub.execute_input": "2024-09-16T12:24:19.342497Z",
     "iopub.status.busy": "2024-09-16T12:24:19.342177Z",
     "iopub.status.idle": "2024-09-16T12:24:19.349215Z",
     "shell.execute_reply": "2024-09-16T12:24:19.348329Z"
    },
    "papermill": {
     "duration": 0.024414,
     "end_time": "2024-09-16T12:24:19.351491",
     "exception": false,
     "start_time": "2024-09-16T12:24:19.327077",
     "status": "completed"
    },
    "tags": []
   },
   "outputs": [],
   "source": [
    "def preprocess(df_train, df_test):\n",
    "    global cat_cols\n",
    "    \n",
    "    encoder = OneHotEncoder(sparse_output=False, dtype=np.int32, handle_unknown='ignore')\n",
    "    encoder.fit(df_train[cat_cols])\n",
    "    \n",
    "    new_cat_cols = [f'onehot_{i}' for i in range(len(encoder.get_feature_names_out()))]\n",
    "\n",
    "    df_train[new_cat_cols] = encoder.transform(df_train[cat_cols])\n",
    "    df_train[new_cat_cols] = df_train[new_cat_cols].astype('category')\n",
    "\n",
    "    df_test[new_cat_cols] = encoder.transform(df_test[cat_cols])\n",
    "    df_test[new_cat_cols] = df_test[new_cat_cols].astype('category')\n",
    "\n",
    "    for col in cat_cols:\n",
    "        feature_cols.remove(col)\n",
    "\n",
    "    feature_cols.extend(new_cat_cols)\n",
    "    cat_cols = new_cat_cols\n",
    "    \n",
    "    return df_train, df_test"
   ]
  },
  {
   "cell_type": "code",
   "execution_count": 75,
   "id": "b09bb971",
   "metadata": {
    "execution": {
     "iopub.execute_input": "2024-09-16T12:24:19.384337Z",
     "iopub.status.busy": "2024-09-16T12:24:19.384035Z",
     "iopub.status.idle": "2024-09-16T12:24:19.390415Z",
     "shell.execute_reply": "2024-09-16T12:24:19.389417Z"
    },
    "papermill": {
     "duration": 0.023268,
     "end_time": "2024-09-16T12:24:19.392369",
     "exception": false,
     "start_time": "2024-09-16T12:24:19.369101",
     "status": "completed"
    },
    "tags": []
   },
   "outputs": [],
   "source": [
    "def custom_metric(estimator, X, y_true):\n",
    "    y_hat = estimator.predict_proba(X)[:, 1]\n",
    "    min_tpr = 0.80\n",
    "    max_fpr = abs(1 - min_tpr)\n",
    "    \n",
    "    v_gt = abs(y_true - 1)\n",
    "    v_pred = np.array([1.0 - x for x in y_hat])\n",
    "    \n",
    "    partial_auc_scaled = roc_auc_score(v_gt, v_pred, max_fpr=max_fpr)\n",
    "    partial_auc = 0.5 * max_fpr**2 + (max_fpr - 0.5 * max_fpr**2) / (1.0 - 0.5) * (partial_auc_scaled - 0.5)\n",
    "    \n",
    "    return partial_auc"
   ]
  },
  {
   "cell_type": "code",
   "execution_count": 76,
   "id": "80cd5b5a",
   "metadata": {
    "execution": {
     "iopub.execute_input": "2024-09-16T12:24:19.449867Z",
     "iopub.status.busy": "2024-09-16T12:24:19.449595Z",
     "iopub.status.idle": "2024-09-16T12:24:19.457049Z",
     "shell.execute_reply": "2024-09-16T12:24:19.456266Z"
    },
    "papermill": {
     "duration": 0.024434,
     "end_time": "2024-09-16T12:24:19.458880",
     "exception": false,
     "start_time": "2024-09-16T12:24:19.434446",
     "status": "completed"
    },
    "tags": []
   },
   "outputs": [],
   "source": [
    "# '../input/old-models-predictions/old_data_model_forecast.parquet'\n",
    "def add_old_model_preds(df_train, path):\n",
    "    old_data_model_preds = pd.read_parquet(path) #old_data_model_forecast\n",
    "    feature_cols_new = []\n",
    "    df_train = df_train.merge(old_data_model_preds, how=\"left\", on=[\"isic_id\"])\n",
    "    feature_cols_new += [i for i in old_data_model_preds.columns if i!='isic_id']\n",
    "    df_train = df_train.merge(\n",
    "        df_train.groupby(\"patient_id\").agg(**{\n",
    "            \"old_set_0_m\": pd.NamedAgg('old_set_0', 'mean'),\n",
    "            \"old_set_1_m\": pd.NamedAgg('old_set_1', 'mean'),\n",
    "            \"old_set_2_m\": pd.NamedAgg('old_set_2', 'mean')\n",
    "        }).reset_index(), how=\"left\", on=[\"patient_id\"])\n",
    "\n",
    "    df_train['old_set_0_m'] = df_train['old_set_0'] / df_train['old_set_0_m']\n",
    "    df_train['old_set_1_m'] = df_train['old_set_1'] / df_train['old_set_1_m']\n",
    "    df_train['old_set_2_m'] = df_train['old_set_2'] / df_train['old_set_2_m']\n",
    "    feature_cols_new += ['old_set_0_m', 'old_set_1_m', 'old_set_2_m']\n",
    "    return df_train, feature_cols_new"
   ]
  },
  {
   "cell_type": "code",
   "execution_count": 77,
   "id": "dad37661",
   "metadata": {
    "execution": {
     "iopub.execute_input": "2024-09-16T12:24:19.489698Z",
     "iopub.status.busy": "2024-09-16T12:24:19.488882Z",
     "iopub.status.idle": "2024-09-16T12:24:25.697462Z",
     "shell.execute_reply": "2024-09-16T12:24:25.696615Z"
    },
    "papermill": {
     "duration": 6.226693,
     "end_time": "2024-09-16T12:24:25.699723",
     "exception": false,
     "start_time": "2024-09-16T12:24:19.473030",
     "status": "completed"
    },
    "tags": []
   },
   "outputs": [
    {
     "name": "stdout",
     "output_type": "stream",
     "text": [
      "(401059, 176)\n",
      "(3, 165)\n",
      "(401059, 223) (3, 212)\n"
     ]
    }
   ],
   "source": [
    "df_train = read_data(train_path)\n",
    "print(df_train.shape)\n",
    "df_test = read_data(test_path)\n",
    "print(df_test.shape)\n",
    "df_subm = pd.read_csv(subm_path, index_col=id_col)\n",
    "df_train, df_test = preprocess(df_train, df_test)\n",
    "print(df_train.shape, df_test.shape)"
   ]
  },
  {
   "cell_type": "code",
   "execution_count": 78,
   "id": "6c6f018a",
   "metadata": {},
   "outputs": [],
   "source": [
    "# len(cat_cols)"
   ]
  },
  {
   "cell_type": "code",
   "execution_count": 79,
   "id": "0f707014",
   "metadata": {},
   "outputs": [],
   "source": [
    "# cat_cols"
   ]
  },
  {
   "cell_type": "code",
   "execution_count": 80,
   "id": "6e238d99",
   "metadata": {},
   "outputs": [],
   "source": [
    "# original features --> 55\n",
    "# after feat engr --> 176\n",
    "# after preprocessing --> 223"
   ]
  },
  {
   "cell_type": "code",
   "execution_count": 81,
   "id": "76e36efa",
   "metadata": {},
   "outputs": [],
   "source": [
    "# set(df_train.columns) - set(feature_cols1)"
   ]
  },
  {
   "cell_type": "markdown",
   "id": "2235fb43",
   "metadata": {},
   "source": [
    "## Data Cleaning"
   ]
  },
  {
   "cell_type": "code",
   "execution_count": 82,
   "id": "df203619",
   "metadata": {
    "execution": {
     "iopub.execute_input": "2024-09-16T12:24:25.730247Z",
     "iopub.status.busy": "2024-09-16T12:24:25.729960Z",
     "iopub.status.idle": "2024-09-16T12:24:25.840825Z",
     "shell.execute_reply": "2024-09-16T12:24:25.839916Z"
    },
    "papermill": {
     "duration": 0.128366,
     "end_time": "2024-09-16T12:24:25.842914",
     "exception": false,
     "start_time": "2024-09-16T12:24:25.714548",
     "status": "completed"
    },
    "tags": []
   },
   "outputs": [],
   "source": [
    "for col in feature_cols: \n",
    "    df_test[col].replace([np.inf, -np.inf], np.nan, inplace=True)\n",
    "    \n",
    "cat_columns = list(df_test.select_dtypes('category').columns)\n",
    "for col in feature_cols[76:77]:\n",
    "    if col not in cat_columns:\n",
    "        if df_test[col].isna().mean() != 1:\n",
    "            filler = df_test[col].median()\n",
    "        else:\n",
    "            filler = 0\n",
    "        df_test[col] = df_test[col].fillna(filler)\n",
    "    else:\n",
    "        vc = df_test[col].value_counts()\n",
    "        if vc.shape[0] == 0:\n",
    "            filler = 0\n",
    "        else:\n",
    "            filler = vc.index[0]\n",
    "    \n",
    "        df_test[col] = df_test[col].fillna(filler)"
   ]
  },
  {
   "cell_type": "markdown",
   "id": "f7579112",
   "metadata": {},
   "source": [
    "## Calculate LOF Feature"
   ]
  },
  {
   "cell_type": "code",
   "execution_count": 83,
   "id": "14f97f73",
   "metadata": {
    "execution": {
     "iopub.execute_input": "2024-09-16T12:24:25.874119Z",
     "iopub.status.busy": "2024-09-16T12:24:25.873829Z",
     "iopub.status.idle": "2024-09-16T12:24:25.878977Z",
     "shell.execute_reply": "2024-09-16T12:24:25.878147Z"
    },
    "papermill": {
     "duration": 0.023339,
     "end_time": "2024-09-16T12:24:25.880832",
     "exception": false,
     "start_time": "2024-09-16T12:24:25.857493",
     "status": "completed"
    },
    "tags": []
   },
   "outputs": [],
   "source": [
    "from sklearn.neighbors import LocalOutlierFactor\n",
    "from sklearn.preprocessing import StandardScaler\n",
    "\n",
    "top_lof_features = [\n",
    "        'tbp_lv_H','hue_contrast',\n",
    "       'age_normalized_nevi_confidence_2', 'tbp_lv_deltaB',\n",
    "       'color_uniformity', 'tbp_lv_z',\n",
    "       'clin_size_long_diam_mm', 'tbp_lv_y',\n",
    "       'position_distance_3d', 'hue_contrast',\n",
    "       'tbp_lv_stdLExt', 'mean_hue_difference',\n",
    "       'age_normalized_nevi_confidence',\n",
    "       'lesion_visibility_score',\n",
    "       'position_distance_3d',\n",
    "       'tbp_lv_minorAxisMM', 'tbp_lv_Hext']\n",
    "\n",
    "# top_lof_features were generated using permutation feature importance"
   ]
  },
  {
   "cell_type": "code",
   "execution_count": 84,
   "id": "04481fd8",
   "metadata": {
    "execution": {
     "iopub.execute_input": "2024-09-16T12:24:25.910498Z",
     "iopub.status.busy": "2024-09-16T12:24:25.910164Z",
     "iopub.status.idle": "2024-09-16T12:27:24.216678Z",
     "shell.execute_reply": "2024-09-16T12:27:24.215747Z"
    },
    "papermill": {
     "duration": 178.323563,
     "end_time": "2024-09-16T12:27:24.218749",
     "exception": false,
     "start_time": "2024-09-16T12:24:25.895186",
     "status": "completed"
    },
    "tags": []
   },
   "outputs": [
    {
     "name": "stderr",
     "output_type": "stream",
     "text": [
      "100%|██████████| 1042/1042 [01:24<00:00, 12.28it/s]\n",
      "100%|██████████| 3/3 [00:00<?, ?it/s]\n"
     ]
    }
   ],
   "source": [
    "def get_lof_score(df_train, top_lof_features):\n",
    "    scalled_array = StandardScaler().fit_transform(df_train[top_lof_features])\n",
    "    outiler_factors = []\n",
    "    for patient_id in tqdm(df_train.patient_id.unique()):\n",
    "        mask = (df_train['patient_id'] == patient_id).values\n",
    "        sum_mask = sum(mask)\n",
    "        if sum_mask < 3:\n",
    "            continue\n",
    "        patient_emb = scalled_array[mask]\n",
    "        clf = LocalOutlierFactor(n_neighbors=min(30, sum_mask))\n",
    "        clf.fit_predict(patient_emb)\n",
    "\n",
    "\n",
    "        outiler_factors.append(pd.DataFrame(\n",
    "            {\"isic_id\": df_train[mask].index.values,\n",
    "            \"of\": clf.negative_outlier_factor_}))\n",
    "\n",
    "    if len(outiler_factors) == 0:\n",
    "        df_train['of'] = -1\n",
    "        return df_train\n",
    "    \n",
    "    outiler_factors = pd.concat(outiler_factors).reset_index(drop=True)\n",
    "\n",
    "    df_train = df_train.merge(outiler_factors.set_index('isic_id'), how=\"left\", left_index=True, right_index=True)\n",
    "    df_train['of'] = df_train['of'].fillna(-1)\n",
    "    return df_train\n",
    "\n",
    "df_train = get_lof_score(df_train, top_lof_features)\n",
    "df_test = get_lof_score(df_test, top_lof_features)\n",
    "\n",
    "feature_cols += ['of']"
   ]
  },
  {
   "cell_type": "code",
   "execution_count": null,
   "id": "9d086e43",
   "metadata": {},
   "outputs": [],
   "source": [
    "# What is LOF (Local Outlier Factor)?\n",
    "\n",
    "#     It’s a machine learning technique.\n",
    "\n",
    "#     Used to detect outliers.\n",
    "\n",
    "#     Output:\n",
    "\n",
    "#         Negative value.\n",
    "\n",
    "#         Smaller value = more likely outlier.\n",
    "\n",
    "#         Larger value (closer to 0) = more normal.\n",
    "\n",
    "# Why is this LOF(local outlier factor) Brilliant?\n",
    "\n",
    "# → This is a patient-level relative feature.\n",
    "# → Not absolute like size or color.\n",
    "# → Helps model catch:\n",
    "\n",
    "# \"This lesion looks unusual for this patient\"\n",
    "\n",
    "# Value of of\tInterpretation\n",
    "# Very small (like -5)\tImage looks very different from patient's other images (maybe cancer?)\n",
    "# Around -1\tImage looks similar to patient's other images (normal)\n",
    "\n",
    "# → If patient has less than 3 images → skip (LOF needs minimum 3 points to compare)."
   ]
  },
  {
   "cell_type": "markdown",
   "id": "3aa4fa4c",
   "metadata": {},
   "source": [
    "## Merge old model and new model feats"
   ]
  },
  {
   "cell_type": "code",
   "execution_count": 85,
   "id": "a1a66bf0",
   "metadata": {
    "execution": {
     "iopub.execute_input": "2024-09-16T12:27:24.408970Z",
     "iopub.status.busy": "2024-09-16T12:27:24.408172Z",
     "iopub.status.idle": "2024-09-16T12:27:25.916612Z",
     "shell.execute_reply": "2024-09-16T12:27:25.915791Z"
    },
    "papermill": {
     "duration": 1.606354,
     "end_time": "2024-09-16T12:27:25.919200",
     "exception": false,
     "start_time": "2024-09-16T12:27:24.312846",
     "status": "completed"
    },
    "tags": []
   },
   "outputs": [],
   "source": [
    "df_train, extra_f = add_old_model_preds(df_train, '../data/artifacts/old_data_model_forecast.parquet')\n",
    "df_test, extra_f = add_old_model_preds(df_test, 'old_data_model_forecast__test.parquet')"
   ]
  },
  {
   "cell_type": "code",
   "execution_count": 86,
   "id": "a2561ec3",
   "metadata": {
    "execution": {
     "iopub.execute_input": "2024-09-16T12:27:26.110306Z",
     "iopub.status.busy": "2024-09-16T12:27:26.109670Z",
     "iopub.status.idle": "2024-09-16T12:27:26.768113Z",
     "shell.execute_reply": "2024-09-16T12:27:26.767001Z"
    },
    "papermill": {
     "duration": 0.75579,
     "end_time": "2024-09-16T12:27:26.770733",
     "exception": false,
     "start_time": "2024-09-16T12:27:26.014943",
     "status": "completed"
    },
    "tags": []
   },
   "outputs": [],
   "source": [
    "df_train = df_train.merge(oof_forecasts_eva, how=\"left\", on='isic_id')\n",
    "df_test = df_test.merge(test_df_eva, how=\"left\", on='isic_id')\n",
    "\n",
    "# feature_cols += extra_f\n",
    "feature_cols += ['predictions_eva', 'predictions_eva_m']"
   ]
  },
  {
   "cell_type": "code",
   "execution_count": 87,
   "id": "19e31933",
   "metadata": {
    "execution": {
     "iopub.execute_input": "2024-09-16T12:27:26.961736Z",
     "iopub.status.busy": "2024-09-16T12:27:26.961122Z",
     "iopub.status.idle": "2024-09-16T12:27:28.110165Z",
     "shell.execute_reply": "2024-09-16T12:27:28.109313Z"
    },
    "papermill": {
     "duration": 1.247182,
     "end_time": "2024-09-16T12:27:28.112377",
     "exception": false,
     "start_time": "2024-09-16T12:27:26.865195",
     "status": "completed"
    },
    "tags": []
   },
   "outputs": [],
   "source": [
    "df_train = df_train.merge(oof_forecasts_edgenext, how=\"left\", on='isic_id')\n",
    "df_test = df_test.merge(test_df_edg, how=\"left\", on='isic_id')\n",
    "\n",
    "feature_cols += ['predictions_edg', 'predictions_edg_m']"
   ]
  },
  {
   "cell_type": "code",
   "execution_count": 88,
   "id": "d029afe9",
   "metadata": {},
   "outputs": [
    {
     "data": {
      "text/plain": [
       "(401059, 237)"
      ]
     },
     "execution_count": 88,
     "metadata": {},
     "output_type": "execute_result"
    }
   ],
   "source": [
    "df_train.shape"
   ]
  },
  {
   "cell_type": "markdown",
   "id": "15ea7ed3",
   "metadata": {
    "papermill": {
     "duration": 0.093779,
     "end_time": "2024-09-16T12:27:28.300701",
     "exception": false,
     "start_time": "2024-09-16T12:27:28.206922",
     "status": "completed"
    },
    "tags": []
   },
   "source": [
    "# Optuna HyperParam Tuned Models"
   ]
  },
  {
   "cell_type": "code",
   "execution_count": 89,
   "id": "4e663e79",
   "metadata": {
    "execution": {
     "iopub.execute_input": "2024-09-16T12:27:28.490744Z",
     "iopub.status.busy": "2024-09-16T12:27:28.490384Z",
     "iopub.status.idle": "2024-09-16T12:27:28.499561Z",
     "shell.execute_reply": "2024-09-16T12:27:28.498660Z"
    },
    "papermill": {
     "duration": 0.107376,
     "end_time": "2024-09-16T12:27:28.501359",
     "exception": false,
     "start_time": "2024-09-16T12:27:28.393983",
     "status": "completed"
    },
    "tags": []
   },
   "outputs": [],
   "source": [
    "lgb_params = {\n",
    "    'objective':        'binary',\n",
    "    'verbosity':        -1,\n",
    "    'n_iter':           200,\n",
    "    'boosting_type':    'gbdt',\n",
    "    \"device\" : \"gpu\",\n",
    "    'random_state':     seed,\n",
    "    'lambda_l1':        0.08758718919397321, \n",
    "    'lambda_l2':        0.0039689175176025465, \n",
    "    'learning_rate':    0.03231007103195577, \n",
    "    'max_depth':        4, \n",
    "    'num_leaves':       103, \n",
    "    'colsample_bytree': 0.8329551585827726, \n",
    "    'colsample_bynode': 0.4025961355653304, \n",
    "    'bagging_fraction': 0.7738954452473223, \n",
    "    'bagging_freq':     4, \n",
    "    'min_data_in_leaf': 85, \n",
    "    'scale_pos_weight': 2.7984184778875543,\n",
    "}\n",
    "\n",
    "cb_params = {\n",
    "    'loss_function':     'Logloss',\n",
    "    'iterations':        200,\n",
    "    'verbose':           False,\n",
    "    'random_state':      seed,\n",
    "    'max_depth':         7, \n",
    "    'learning_rate':     0.06936242010150652, \n",
    "    'scale_pos_weight':  2.6149345838209532, \n",
    "    'l2_leaf_reg':       6.216113851699493, \n",
    "    'subsample':         0.6249261779711819, \n",
    "    'min_data_in_leaf':  24,\n",
    "    'cat_features':      cat_cols,\n",
    "}\n",
    "\n",
    "xgb_params  = {\n",
    "    'enable_categorical': True,\n",
    "    'tree_method':        'hist',\n",
    "    'random_state':       seed,\n",
    "    'learning_rate':      0.08501257473292347, \n",
    "    'lambda':             8.879624125465703, \n",
    "    'alpha':              0.6779926606782505, \n",
    "    'max_depth':          6, \n",
    "    'subsample':          0.6012681388711075, \n",
    "    'colsample_bytree':   0.8437772277074493, \n",
    "    'colsample_bylevel':  0.5476090898823716, \n",
    "    'colsample_bynode':   0.9928601203635129, \n",
    "    'scale_pos_weight':   3.29440313334688,\n",
    "    \"device\": \"cuda\"\n",
    "}"
   ]
  },
  {
   "cell_type": "markdown",
   "id": "4acfefbf",
   "metadata": {
    "papermill": {
     "duration": 0.093969,
     "end_time": "2024-09-16T12:27:28.690734",
     "exception": false,
     "start_time": "2024-09-16T12:27:28.596765",
     "status": "completed"
    },
    "tags": []
   },
   "source": [
    "# Model Training with Cross Validation"
   ]
  },
  {
   "cell_type": "code",
   "execution_count": 90,
   "id": "8a0c0728",
   "metadata": {
    "execution": {
     "iopub.execute_input": "2024-09-16T12:27:28.879975Z",
     "iopub.status.busy": "2024-09-16T12:27:28.879617Z",
     "iopub.status.idle": "2024-09-16T12:27:28.886464Z",
     "shell.execute_reply": "2024-09-16T12:27:28.885581Z"
    },
    "papermill": {
     "duration": 0.103324,
     "end_time": "2024-09-16T12:27:28.888445",
     "exception": false,
     "start_time": "2024-09-16T12:27:28.785121",
     "status": "completed"
    },
    "tags": []
   },
   "outputs": [],
   "source": [
    "def custom_metric_raw(y_hat, y_true):\n",
    "    min_tpr = 0.80\n",
    "    max_fpr = abs(1 - min_tpr)\n",
    "    \n",
    "    v_gt = abs(y_true - 1)\n",
    "    v_pred = np.array([1.0 - x for x in y_hat])\n",
    "    \n",
    "    partial_auc_scaled = roc_auc_score(v_gt, v_pred, max_fpr=max_fpr)\n",
    "    partial_auc = 0.5 * max_fpr**2 + (max_fpr - 0.5 * max_fpr**2) / (1.0 - 0.5) * (partial_auc_scaled - 0.5)\n",
    "    \n",
    "    return partial_auc\n",
    "\n",
    "\n",
    "def custom_metric(estimator, X, y_true):\n",
    "    y_hat = estimator.predict_proba(X)[:, 1]\n",
    "    partial_auc = custom_metric_raw(y_hat, y_true)\n",
    "    return partial_auc\n",
    "    "
   ]
  },
  {
   "cell_type": "code",
   "execution_count": 91,
   "id": "69dddc51",
   "metadata": {
    "execution": {
     "iopub.execute_input": "2024-09-16T12:27:29.103059Z",
     "iopub.status.busy": "2024-09-16T12:27:29.102708Z",
     "iopub.status.idle": "2024-09-16T12:27:29.353376Z",
     "shell.execute_reply": "2024-09-16T12:27:29.352441Z"
    },
    "papermill": {
     "duration": 0.359508,
     "end_time": "2024-09-16T12:27:29.355812",
     "exception": false,
     "start_time": "2024-09-16T12:27:28.996304",
     "status": "completed"
    },
    "tags": []
   },
   "outputs": [],
   "source": [
    "from pydantic import BaseModel\n",
    "\n",
    "class ModelConfigCB(BaseModel):\n",
    "    iterations: int = 1000\n",
    "    learning_rate: float = 0.06936242010150652\n",
    "    l2_leaf_reg: float = 6.216113851699493\n",
    "    loss_function: str = \"Logloss\"\n",
    "    bagging_temperature: float = 1\n",
    "    random_seed: int = seed\n",
    "    border_count: int = 128\n",
    "    grow_policy: str = \"SymmetricTree\" #Depthwise Lossguide\n",
    "    min_data_in_leaf: int = 24\n",
    "    depth: int  = 7\n",
    "    do_sample: bool = True"
   ]
  },
  {
   "cell_type": "code",
   "execution_count": 140,
   "id": "6027f9ab",
   "metadata": {
    "execution": {
     "iopub.execute_input": "2024-09-16T12:27:29.555633Z",
     "iopub.status.busy": "2024-09-16T12:27:29.555196Z",
     "iopub.status.idle": "2024-09-16T12:27:29.602164Z",
     "shell.execute_reply": "2024-09-16T12:27:29.601233Z"
    },
    "papermill": {
     "duration": 0.147069,
     "end_time": "2024-09-16T12:27:29.604235",
     "exception": false,
     "start_time": "2024-09-16T12:27:29.457166",
     "status": "completed"
    },
    "tags": []
   },
   "outputs": [],
   "source": [
    "# def run_model_old_cb(cb_params, reduce=True, columns_to_drop=None) -> float:\n",
    "#     columns_to_drop = [] if columns_to_drop is None else columns_to_drop\n",
    "#     metric_list = []\n",
    "#     models = []\n",
    "#     for random_seed in range(1, 10):\n",
    "#         tsp = StratifiedGroupKFold(5, shuffle=True, random_state=random_seed)\n",
    "#         metrics_ev_df = []\n",
    "#         test_forecast = []\n",
    "#         val_forecast = []\n",
    "#         for fold_n, (train_index, val_index) in enumerate(tsp.split(df_train, y=df_train.target, groups=df_train[group_col])):\n",
    "#             train_slice_x = df_train.iloc[train_index][[i for i in feature_cols if i not in columns_to_drop]].reset_index(drop=True)\n",
    "#             val_slice_x = df_train.iloc[val_index][[i for i in feature_cols if i not in columns_to_drop]].reset_index(drop=True)\n",
    "            \n",
    "#             for col in ['predictions_edg', 'predictions_edg_m', 'predictions_eva', 'predictions_eva_m']:\n",
    "#                 train_slice_x[col] = train_slice_x[col] + np.random.normal(loc=0, scale=0.1, size=train_slice_x.shape[0])\n",
    "                \n",
    "#             train_slice_y = df_train.iloc[train_index]['target'].reset_index(drop=True)\n",
    "#             val_slice_y = df_train.iloc[val_index]['target'].reset_index(drop=True)\n",
    "        \n",
    "#             cb_model = Pipeline([\n",
    "#                 ('sampler_1', RandomOverSampler(sampling_strategy= 0.003 , random_state=seed)),\n",
    "#                 ('sampler_2', RandomUnderSampler(sampling_strategy=sampling_ratio , random_state=seed)),\n",
    "#                 ('classifier', cb.CatBoostClassifier(**cb_params)),\n",
    "#             ])\n",
    "            \n",
    "#             cb_model.fit(train_slice_x, train_slice_y)\n",
    "#             preds_cb = cb_model.predict_proba(val_slice_x)[:, 1]\n",
    "#             metric = custom_metric_raw(preds_cb, val_slice_y.values)\n",
    "#             metric_list.append(metric)\n",
    "#             models.append(cb_model)\n",
    "\n",
    "#     if reduce:\n",
    "#         return np.mean(metric_list), models\n",
    "#     else:\n",
    "#         return metric_list, models\n",
    "    \n",
    "    \n",
    "def run_model_old_lgb(lgb_params, reduce=True, columns_to_drop=None, df_train=None, savefile=None) -> float:\n",
    "    columns_to_drop = [] if columns_to_drop is None else columns_to_drop\n",
    "    metric_list = []\n",
    "    models = []\n",
    "    all_preds = []  # This list will store the predictions of each fold\n",
    "\n",
    "    for random_seed in range(1, 2):\n",
    "        random_seed = random_seed * 10 + 17\n",
    "        tsp = StratifiedGroupKFold(5, shuffle=True, random_state=random_seed)\n",
    "        metrics_ev_df = []\n",
    "        test_forecast = []\n",
    "        val_forecast = []\n",
    "        for fold_n, (train_index, val_index) in enumerate(tsp.split(df_train, y=df_train.target, groups=df_train[group_col])):\n",
    "            # train_slice_x = df_train.iloc[train_index][[i for i in feature_cols if i not in columns_to_drop]].reset_index(drop=True)\n",
    "            # val_slice_x = df_train.iloc[val_index][[i for i in feature_cols if i not in columns_to_drop]].reset_index(drop=True)\n",
    "\n",
    "            # Only use available columns\n",
    "            available_cols = [col for col in feature_cols if col not in columns_to_drop and col in df_train.columns]\n",
    "            \n",
    "            train_slice_x = df_train.iloc[train_index][available_cols].reset_index(drop=True)\n",
    "            val_slice_x   = df_train.iloc[val_index][available_cols].reset_index(drop=True)\n",
    "            train_slice_y = df_train.iloc[train_index]['target'].reset_index(drop=True)\n",
    "            val_slice_y   = df_train.iloc[val_index]['target'].reset_index(drop=True)\n",
    "            \n",
    "            # Safely add noise to existing prediction features\n",
    "            for col in ['predictions_edg', 'predictions_edg_m', 'predictions_eva', 'predictions_eva_m']:\n",
    "                if col in train_slice_x.columns:\n",
    "                    train_slice_x[col] += np.random.normal(loc=0, scale=0.1, size=train_slice_x.shape[0])\n",
    "                \n",
    "            lgb_model = Pipeline([\n",
    "                ('sampler_1', RandomOverSampler(sampling_strategy= 0.003 , random_state=random_seed)),\n",
    "                ('sampler_2', RandomUnderSampler(sampling_strategy=sampling_ratio , random_state=random_seed)),\n",
    "                ('classifier', lgb.LGBMClassifier(**lgb_params)),\n",
    "            ])\n",
    "            \n",
    "            lgb_model.fit(train_slice_x, train_slice_y)\n",
    "            preds_lgb = lgb_model.predict_proba(val_slice_x)[:, 1]\n",
    "            metric = custom_metric_raw(preds_lgb, val_slice_y.values)\n",
    "            metric_list.append(metric)\n",
    "            models.append(lgb_model)\n",
    "\n",
    "            # Save predictions along with identifiers\n",
    "            fold_preds = pd.DataFrame({\n",
    "                'isic_id': df_train.iloc[val_index].index,  # Ensure this returns the correct identifier\n",
    "                'fold': fold_n,\n",
    "                'random_seed': random_seed,\n",
    "                'pred': preds_lgb,\n",
    "                'target': val_slice_y.values\n",
    "            })\n",
    "            all_preds.append(fold_preds)\n",
    "\n",
    "    # Concatenate predictions from all folds into one DataFrame and save as parquet\n",
    "    all_preds_df = pd.concat(all_preds).reset_index(drop=True)\n",
    "    all_preds_df.to_parquet(f'../result/lightgbm_all_fold_predictions_{savefile}.parquet')\n",
    "\n",
    "    if reduce:\n",
    "        return np.mean(metric_list), models\n",
    "    else:\n",
    "        return metric_list, models\n",
    "    \n",
    "    \n",
    "def run_model_old_xgb(xgb_params, reduce=True, columns_to_drop=None, df_train=None, savefile=None) -> float:\n",
    "    columns_to_drop = [] if columns_to_drop is None else columns_to_drop\n",
    "    metric_list = []\n",
    "    models = []\n",
    "    all_preds = []  # This list will store the predictions of each fold\n",
    "\n",
    "    for random_seed in range(1, 2):\n",
    "        random_seed = random_seed * 10 + 88\n",
    "        tsp = StratifiedGroupKFold(5, shuffle=True, random_state=random_seed)\n",
    "        metrics_ev_df = []\n",
    "        test_forecast = []\n",
    "        val_forecast = []\n",
    "        for fold_n, (train_index, val_index) in enumerate(tsp.split(df_train, y=df_train.target, groups=df_train[group_col])):\n",
    "            # train_slice_x = df_train.iloc[train_index][[i for i in feature_cols if i not in columns_to_drop]].reset_index(drop=True)\n",
    "            # val_slice_x = df_train.iloc[val_index][[i for i in feature_cols if i not in columns_to_drop]].reset_index(drop=True)\n",
    "            \n",
    "            # Only use available columns\n",
    "            available_cols = [col for col in feature_cols if col not in columns_to_drop and col in df_train.columns]\n",
    "            \n",
    "            train_slice_x = df_train.iloc[train_index][available_cols].reset_index(drop=True)\n",
    "            val_slice_x   = df_train.iloc[val_index][available_cols].reset_index(drop=True)\n",
    "            train_slice_y = df_train.iloc[train_index]['target'].reset_index(drop=True)\n",
    "            val_slice_y   = df_train.iloc[val_index]['target'].reset_index(drop=True)\n",
    "\n",
    "            # Safely add noise to existing prediction features\n",
    "            for col in ['predictions_edg', 'predictions_edg_m', 'predictions_eva', 'predictions_eva_m']:\n",
    "                if col in train_slice_x.columns:\n",
    "                    train_slice_x[col] += np.random.normal(loc=0, scale=0.1, size=train_slice_x.shape[0])\n",
    "        \n",
    "            xgb_model = Pipeline([\n",
    "                ('sampler_1', RandomOverSampler(sampling_strategy= 0.003 , random_state=random_seed)),\n",
    "                ('sampler_2', RandomUnderSampler(sampling_strategy=sampling_ratio , random_state=random_seed)),\n",
    "                ('classifier', xgb.XGBClassifier(**xgb_params)),\n",
    "            ])\n",
    "            \n",
    "            xgb_model.fit(train_slice_x, train_slice_y)\n",
    "            preds_xgb = xgb_model.predict_proba(val_slice_x)[:, 1]\n",
    "            metric = custom_metric_raw(preds_xgb, val_slice_y.values)\n",
    "            metric_list.append(metric)\n",
    "            models.append(xgb_model)\n",
    "\n",
    "            # Save predictions along with identifiers\n",
    "            fold_preds = pd.DataFrame({\n",
    "                'isic_id': df_train.iloc[val_index].index,  # Ensure this returns the correct identifier\n",
    "                'fold': fold_n,\n",
    "                'random_seed': random_seed,\n",
    "                'pred': preds_xgb,\n",
    "                'target': val_slice_y.values\n",
    "            })\n",
    "            all_preds.append(fold_preds)\n",
    "\n",
    "    # Concatenate predictions from all folds into one DataFrame and save as parquet\n",
    "    all_preds_df = pd.concat(all_preds).reset_index(drop=True)\n",
    "    all_preds_df.to_parquet(f'../result/xgboost_all_fold_predictions_{savefile}.parquet')\n",
    "\n",
    "    if reduce:\n",
    "        return np.mean(metric_list), models\n",
    "    else:\n",
    "        return metric_list, models\n",
    "    \n",
    "    \n",
    "def run_model_cb(trial , test=False, reduce=True, columns_to_drop=None, df_train=None, savefile=None) -> float:\n",
    "    columns_to_drop = [] if columns_to_drop is None else columns_to_drop\n",
    "    model_config_cb = ModelConfigCB(\n",
    "        iterations = 2000,\n",
    "        learning_rate = trial.suggest_float('learning_rate', 0.01, 0.08) if not test else trial.get('learning_rate'),\n",
    "        l2_leaf_reg = trial.suggest_float('l2_leaf_reg', 1, 20) if not test else trial.get('l2_leaf_reg'),\n",
    "        random_strength = trial.suggest_float('random_strength', 0, 5) if not test else trial.get('random_strength'),\n",
    "        loss_function = \"Logloss\",\n",
    "        depth = trial.suggest_int('depth', 2, 8) if not test else trial.get('depth'),\n",
    "        bagging_temperature = trial.suggest_float('bagging_temperature', 0, 10) if not test else trial.get('bagging_temperature'),\n",
    "        border_count = trial.suggest_categorical('border_count', [128, 256]) if not test else trial.get('border_count'),\n",
    "        grow_policy = trial.suggest_categorical('grow_policy', [\"SymmetricTree\", \"Depthwise\", \"Lossguide\"]) if not test else trial.get('grow_policy'),\n",
    "        random_seed=42,\n",
    "        min_data_in_leaf = trial.suggest_int('min_data_in_leaf', 8, 40) if not test else trial.get('min_data_in_leaf'),\n",
    "    )\n",
    "    \n",
    "    models = []\n",
    "    metric_list = []\n",
    "    all_preds = []  # This list will store the predictions of each fold\n",
    "\n",
    "    with tqdm() as pbar:\n",
    "        for random_seed in range(1, 2):\n",
    "            tsp = StratifiedGroupKFold(5, shuffle=True, random_state=random_seed)\n",
    "            metrics_ev_df = []\n",
    "            test_forecast = []\n",
    "            val_forecast = []\n",
    "\n",
    "            ## loop for all feats\n",
    "        for fold_n, (train_index, val_index) in enumerate(tsp.split(df_train, y=df_train.target, groups=df_train[group_col])):\n",
    "            available_cols = [col for col in feature_cols if col not in columns_to_drop and col in df_train.columns]\n",
    "\n",
    "            train_slice_x = df_train.iloc[train_index][available_cols].reset_index(drop=True)\n",
    "            val_slice_x   = df_train.iloc[val_index][available_cols].reset_index(drop=True)\n",
    "            \n",
    "            train_slice_y = df_train.iloc[train_index]['target'].reset_index(drop=True)\n",
    "            val_slice_y   = df_train.iloc[val_index]['target'].reset_index(drop=True)\n",
    "\n",
    "            \n",
    "            # loop for original feats\n",
    "            # for fold_n, (train_index, val_index) in enumerate(tsp.split(df_train, y=df_train.target, groups=df_train[group_col])):\n",
    "\n",
    "            #     available_cols = [col for col in feature_cols if col not in columns_to_drop and col in df_train.columns]\n",
    "\n",
    "            #     train_slice_x = df_train.iloc[train_index][available_cols].reset_index(drop=True)\n",
    "            #     val_slice_x   = df_train.iloc[val_index][available_cols].reset_index(drop=True)\n",
    "\n",
    "            #     train_slice_y = df_train.iloc[train_index]['target'].reset_index(drop=True)\n",
    "            #     val_slice_y   = df_train.iloc[val_index]['target'].reset_index(drop=True)\n",
    "\n",
    "                \n",
    "            if model_config_cb.do_sample:\n",
    "                cb_model = Pipeline([\n",
    "                    ('sampler_1', RandomOverSampler(sampling_strategy=0.003 , random_state=random_seed)),\n",
    "                    ('sampler_2', RandomUnderSampler(sampling_strategy=sampling_ratio , random_state=random_seed)),\n",
    "                ])\n",
    "\n",
    "                train_slice_x, train_slice_y = cb_model.fit_resample(train_slice_x, train_slice_y)\n",
    "            \n",
    "            for col in ['predictions_edg', 'predictions_edg_m', 'predictions_eva', 'predictions_eva_m']:\n",
    "                if col in train_slice_x.columns:\n",
    "                    train_slice_x[col] += np.random.normal(loc=0, scale=0.1, size=train_slice_x.shape[0])                \n",
    "                        \n",
    "            clf_catboost = cb.CatBoostClassifier(\n",
    "                loss_function=model_config_cb.loss_function,\n",
    "                eval_metric='AUC',\n",
    "                task_type='GPU',\n",
    "                learning_rate=model_config_cb.learning_rate,\n",
    "                od_wait=100,\n",
    "                random_state=random_seed,\n",
    "                depth=model_config_cb.depth,\n",
    "                l2_leaf_reg=model_config_cb.l2_leaf_reg,\n",
    "                min_data_in_leaf=model_config_cb.min_data_in_leaf,\n",
    "                bagging_temperature=model_config_cb.bagging_temperature,\n",
    "                border_count=model_config_cb.border_count,\n",
    "                grow_policy=model_config_cb.grow_policy, \n",
    "                devices='0',\n",
    "                iterations=model_config_cb.iterations,\n",
    "            )\n",
    "\n",
    "            ## for all feats\n",
    "            train_pool = cb.Pool(train_slice_x, train_slice_y.values, cat_features=cat_cols) \n",
    "            val_pool = cb.Pool(val_slice_x, val_slice_y.values, cat_features=cat_cols) \n",
    "\n",
    "            # # only for original feats\n",
    "            # cat_features_fold = [col for col in cat_cols if col in train_slice_x.columns]\n",
    "            # train_pool = cb.Pool(train_slice_x, train_slice_y.values, cat_features=cat_features_fold)\n",
    "            # val_pool   = cb.Pool(val_slice_x, val_slice_y.values, cat_features=cat_features_fold)\n",
    "\n",
    "            clf_catboost.fit(train_pool, eval_set=val_pool,verbose=False)\n",
    "            preds_cb = clf_catboost.predict_proba(val_slice_x)[:, 1]\n",
    "            metric = custom_metric_raw(preds_cb, val_slice_y.values)\n",
    "            metric_list.append(metric)\n",
    "            models.append(clf_catboost)\n",
    "\n",
    "            # Save predictions along with identifiers\n",
    "            fold_preds = pd.DataFrame({\n",
    "                'isic_id': df_train.iloc[val_index].index,  # Ensure this returns the correct identifier\n",
    "                'fold': fold_n,\n",
    "                'random_seed': random_seed,\n",
    "                'pred': preds_cb,\n",
    "                'target': val_slice_y.values\n",
    "            })\n",
    "            all_preds.append(fold_preds)\n",
    "\n",
    "            pbar.update(1)\n",
    "\n",
    "    # Concatenate predictions from all folds into one DataFrame and save as parquet\n",
    "    all_preds_df = pd.concat(all_preds).reset_index(drop=True)\n",
    "    all_preds_df.to_parquet(f'../result/catboost_all_fold_predictions_{savefile}.parquet')\n",
    "\n",
    "    if reduce:\n",
    "        return np.mean(metric_list), models\n",
    "    else:\n",
    "        return metric_list, models"
   ]
  },
  {
   "cell_type": "code",
   "execution_count": 141,
   "id": "f8292a2e",
   "metadata": {
    "execution": {
     "iopub.execute_input": "2024-09-16T12:27:29.798831Z",
     "iopub.status.busy": "2024-09-16T12:27:29.798486Z",
     "iopub.status.idle": "2024-09-16T12:27:29.804102Z",
     "shell.execute_reply": "2024-09-16T12:27:29.803291Z"
    },
    "papermill": {
     "duration": 0.108075,
     "end_time": "2024-09-16T12:27:29.806067",
     "exception": false,
     "start_time": "2024-09-16T12:27:29.697992",
     "status": "completed"
    },
    "tags": []
   },
   "outputs": [],
   "source": [
    "columns_to_drop = [\n",
    " 'tbp_lv_B',\n",
    " 'tbp_lv_C',\n",
    " 'tbp_lv_H',\n",
    " 'tbp_lv_L',\n",
    " 'tbp_lv_radial_color_std_max',\n",
    " 'tbp_lv_y',\n",
    " 'tbp_lv_z',\n",
    " 'luminance_contrast',\n",
    " 'lesion_color_difference',\n",
    " 'normalized_lesion_size',\n",
    " 'tbp_lv_norm_border_patient_norm',\n",
    " 'lesion_color_difference_patient_norm',\n",
    " 'age_normalized_nevi_confidence_2_patient_norm',\n",
    " 'tbp_lv_deltaA']"
   ]
  },
  {
   "cell_type": "markdown",
   "id": "40c155b4",
   "metadata": {},
   "source": [
    "### Training Starts"
   ]
  },
  {
   "cell_type": "code",
   "execution_count": 142,
   "id": "03c281ac",
   "metadata": {
    "execution": {
     "iopub.execute_input": "2024-09-16T12:27:30.024417Z",
     "iopub.status.busy": "2024-09-16T12:27:30.023484Z",
     "iopub.status.idle": "2024-09-16T12:33:52.365224Z",
     "shell.execute_reply": "2024-09-16T12:33:52.364279Z"
    },
    "papermill": {
     "duration": 382.440906,
     "end_time": "2024-09-16T12:33:52.368105",
     "exception": false,
     "start_time": "2024-09-16T12:27:29.927199",
     "status": "completed"
    },
    "tags": []
   },
   "outputs": [
    {
     "name": "stderr",
     "output_type": "stream",
     "text": [
      "0it [00:00, ?it/s]Default metric period is 5 because AUC is/are not implemented for GPU\n",
      "1it [00:10, 10.96s/it]Default metric period is 5 because AUC is/are not implemented for GPU\n",
      "2it [00:16,  7.85s/it]Default metric period is 5 because AUC is/are not implemented for GPU\n",
      "3it [00:20,  6.17s/it]Default metric period is 5 because AUC is/are not implemented for GPU\n",
      "4it [00:29,  7.00s/it]Default metric period is 5 because AUC is/are not implemented for GPU\n",
      "5it [00:33,  6.73s/it]"
     ]
    },
    {
     "name": "stdout",
     "output_type": "stream",
     "text": [
      "0.17515001643813533\n"
     ]
    },
    {
     "name": "stderr",
     "output_type": "stream",
     "text": [
      "\n"
     ]
    }
   ],
   "source": [
    "model_config_cb = ModelConfigCB(**{\n",
    "     'learning_rate': 0.02606161517843435,\n",
    "     'l2_leaf_reg': 18.04422276698195,\n",
    "     'random_strength': 4.7069580783889995,\n",
    "     'depth': 6,\n",
    "     'bagging_temperature': 0.8735940473548339,\n",
    "     'border_count': 256,\n",
    "     'grow_policy': 'Lossguide',\n",
    "     'min_data_in_leaf': 38})\n",
    "\n",
    "metric_list, models_cb = run_model_cb(\n",
    "    model_config_cb.dict(), test=True, reduce=False, columns_to_drop=columns_to_drop, df_train=df_train, savefile='all_feats')\n",
    "\n",
    "print(np.mean(metric_list))"
   ]
  },
  {
   "cell_type": "code",
   "execution_count": 143,
   "id": "0e34a293",
   "metadata": {},
   "outputs": [
    {
     "data": {
      "image/png": "[encoded data removed]",
      "text/plain": [
       "<Figure size 1000x800 with 1 Axes>"
      ]
     },
     "metadata": {},
     "output_type": "display_data"
    }
   ],
   "source": [
    "import matplotlib.pyplot as plt\n",
    "\n",
    "# Choose one of the trained CatBoost models\n",
    "model = models_cb[0]\n",
    "\n",
    "# Get feature importances\n",
    "importances = model.get_feature_importance(type='FeatureImportance')\n",
    "feature_names = model.feature_names_\n",
    "\n",
    "# Create a DataFrame for easy sorting & plotting\n",
    "feat_imp_df = pd.DataFrame({\n",
    "    'feature': feature_names,\n",
    "    'importance': importances\n",
    "}).sort_values(by='importance', ascending=False)\n",
    "\n",
    "# Show top 20 features\n",
    "top_feats = feat_imp_df.head(20)\n",
    "\n",
    "# --- Plot ---\n",
    "plt.figure(figsize=(10, 8))\n",
    "plt.barh(top_feats['feature'][::-1], top_feats['importance'][::-1])\n",
    "plt.xlabel(\"Importance Score\")\n",
    "plt.title(\"Top 20 Features - CatBoost\")\n",
    "plt.tight_layout()\n",
    "plt.grid(True, linestyle='--', alpha=0.3)\n",
    "plt.show()"
   ]
  },
  {
   "cell_type": "code",
   "execution_count": 144,
   "id": "635eaa94",
   "metadata": {},
   "outputs": [
    {
     "data": {
      "text/html": [
       "<div>\n",
       "<style scoped>\n",
       "    .dataframe tbody tr th:only-of-type {\n",
       "        vertical-align: middle;\n",
       "    }\n",
       "\n",
       "    .dataframe tbody tr th {\n",
       "        vertical-align: top;\n",
       "    }\n",
       "\n",
       "    .dataframe thead th {\n",
       "        text-align: right;\n",
       "    }\n",
       "</style>\n",
       "<table border=\"1\" class=\"dataframe\">\n",
       "  <thead>\n",
       "    <tr style=\"text-align: right;\">\n",
       "      <th></th>\n",
       "      <th>feature</th>\n",
       "      <th>importance</th>\n",
       "    </tr>\n",
       "  </thead>\n",
       "  <tbody>\n",
       "    <tr>\n",
       "      <th>75</th>\n",
       "      <td>predictions_eva_m</td>\n",
       "      <td>15.729915</td>\n",
       "    </tr>\n",
       "    <tr>\n",
       "      <th>74</th>\n",
       "      <td>predictions_eva</td>\n",
       "      <td>7.555385</td>\n",
       "    </tr>\n",
       "    <tr>\n",
       "      <th>77</th>\n",
       "      <td>predictions_edg_m</td>\n",
       "      <td>7.139196</td>\n",
       "    </tr>\n",
       "    <tr>\n",
       "      <th>73</th>\n",
       "      <td>of</td>\n",
       "      <td>6.774304</td>\n",
       "    </tr>\n",
       "    <tr>\n",
       "      <th>76</th>\n",
       "      <td>predictions_edg</td>\n",
       "      <td>3.754251</td>\n",
       "    </tr>\n",
       "    <tr>\n",
       "      <th>11</th>\n",
       "      <td>tbp_lv_deltaB</td>\n",
       "      <td>3.725458</td>\n",
       "    </tr>\n",
       "    <tr>\n",
       "      <th>4</th>\n",
       "      <td>tbp_lv_Bext</td>\n",
       "      <td>3.614502</td>\n",
       "    </tr>\n",
       "    <tr>\n",
       "      <th>25</th>\n",
       "      <td>tbp_lv_x</td>\n",
       "      <td>3.156869</td>\n",
       "    </tr>\n",
       "    <tr>\n",
       "      <th>3</th>\n",
       "      <td>tbp_lv_Aext</td>\n",
       "      <td>3.089400</td>\n",
       "    </tr>\n",
       "    <tr>\n",
       "      <th>2</th>\n",
       "      <td>tbp_lv_A</td>\n",
       "      <td>2.899724</td>\n",
       "    </tr>\n",
       "    <tr>\n",
       "      <th>7</th>\n",
       "      <td>tbp_lv_Lext</td>\n",
       "      <td>2.678821</td>\n",
       "    </tr>\n",
       "    <tr>\n",
       "      <th>6</th>\n",
       "      <td>tbp_lv_Hext</td>\n",
       "      <td>2.470795</td>\n",
       "    </tr>\n",
       "    <tr>\n",
       "      <th>22</th>\n",
       "      <td>tbp_lv_stdLExt</td>\n",
       "      <td>2.455154</td>\n",
       "    </tr>\n",
       "    <tr>\n",
       "      <th>0</th>\n",
       "      <td>age_approx</td>\n",
       "      <td>2.450499</td>\n",
       "    </tr>\n",
       "    <tr>\n",
       "      <th>1</th>\n",
       "      <td>clin_size_long_diam_mm</td>\n",
       "      <td>2.395547</td>\n",
       "    </tr>\n",
       "    <tr>\n",
       "      <th>14</th>\n",
       "      <td>tbp_lv_deltaLBnorm</td>\n",
       "      <td>2.307494</td>\n",
       "    </tr>\n",
       "    <tr>\n",
       "      <th>15</th>\n",
       "      <td>tbp_lv_eccentricity</td>\n",
       "      <td>2.283098</td>\n",
       "    </tr>\n",
       "    <tr>\n",
       "      <th>17</th>\n",
       "      <td>tbp_lv_nevi_confidence</td>\n",
       "      <td>1.925290</td>\n",
       "    </tr>\n",
       "    <tr>\n",
       "      <th>23</th>\n",
       "      <td>tbp_lv_symm_2axis</td>\n",
       "      <td>1.836801</td>\n",
       "    </tr>\n",
       "    <tr>\n",
       "      <th>71</th>\n",
       "      <td>onehot_45</td>\n",
       "      <td>1.815566</td>\n",
       "    </tr>\n",
       "  </tbody>\n",
       "</table>\n",
       "</div>"
      ],
      "text/plain": [
       "                   feature  importance\n",
       "75       predictions_eva_m   15.729915\n",
       "74         predictions_eva    7.555385\n",
       "77       predictions_edg_m    7.139196\n",
       "73                      of    6.774304\n",
       "76         predictions_edg    3.754251\n",
       "11           tbp_lv_deltaB    3.725458\n",
       "4              tbp_lv_Bext    3.614502\n",
       "25                tbp_lv_x    3.156869\n",
       "3              tbp_lv_Aext    3.089400\n",
       "2                 tbp_lv_A    2.899724\n",
       "7              tbp_lv_Lext    2.678821\n",
       "6              tbp_lv_Hext    2.470795\n",
       "22          tbp_lv_stdLExt    2.455154\n",
       "0               age_approx    2.450499\n",
       "1   clin_size_long_diam_mm    2.395547\n",
       "14      tbp_lv_deltaLBnorm    2.307494\n",
       "15     tbp_lv_eccentricity    2.283098\n",
       "17  tbp_lv_nevi_confidence    1.925290\n",
       "23       tbp_lv_symm_2axis    1.836801\n",
       "71               onehot_45    1.815566"
      ]
     },
     "execution_count": 144,
     "metadata": {},
     "output_type": "execute_result"
    }
   ],
   "source": [
    "top_feats"
   ]
  },
  {
   "cell_type": "code",
   "execution_count": 145,
   "id": "be29f81d",
   "metadata": {
    "execution": {
     "iopub.execute_input": "2024-09-16T12:33:52.573886Z",
     "iopub.status.busy": "2024-09-16T12:33:52.573131Z",
     "iopub.status.idle": "2024-09-16T12:39:55.383031Z",
     "shell.execute_reply": "2024-09-16T12:39:55.381839Z"
    },
    "papermill": {
     "duration": 362.914878,
     "end_time": "2024-09-16T12:39:55.385075",
     "exception": false,
     "start_time": "2024-09-16T12:33:52.470197",
     "status": "completed"
    },
    "tags": []
   },
   "outputs": [
    {
     "name": "stdout",
     "output_type": "stream",
     "text": [
      "0.17481292274168\n"
     ]
    }
   ],
   "source": [
    "metric_list, models_lgb = run_model_old_lgb(\n",
    "    lgb_params, reduce=False, columns_to_drop=columns_to_drop, df_train=df_train, savefile='all_feats')\n",
    "\n",
    "print(np.mean(metric_list))"
   ]
  },
  {
   "cell_type": "code",
   "execution_count": 147,
   "id": "42e228e7",
   "metadata": {},
   "outputs": [
    {
     "data": {
      "image/png": "[encoded data removed]",
      "text/plain": [
       "<Figure size 1000x800 with 1 Axes>"
      ]
     },
     "metadata": {},
     "output_type": "display_data"
    },
    {
     "name": "stdout",
     "output_type": "stream",
     "text": [
      "                    feature  importance\n",
      "77        predictions_edg_m         120\n",
      "75        predictions_eva_m         117\n",
      "14       tbp_lv_deltaLBnorm         114\n",
      "1    clin_size_long_diam_mm         110\n",
      "73                       of         109\n",
      "15      tbp_lv_eccentricity          87\n",
      "23        tbp_lv_symm_2axis          85\n",
      "74          predictions_eva          81\n",
      "17   tbp_lv_nevi_confidence          77\n",
      "0                age_approx          74\n",
      "76          predictions_edg          73\n",
      "25                 tbp_lv_x          73\n",
      "3               tbp_lv_Aext          72\n",
      "2                  tbp_lv_A          71\n",
      "9   tbp_lv_area_perim_ratio          69\n",
      "5               tbp_lv_Cext          67\n",
      "6               tbp_lv_Hext          66\n",
      "11            tbp_lv_deltaB          65\n",
      "4               tbp_lv_Bext          65\n",
      "16       tbp_lv_minorAxisMM          62\n"
     ]
    }
   ],
   "source": [
    "import pandas as pd\n",
    "import matplotlib.pyplot as plt\n",
    "\n",
    "# Pick the first trained model from models_lgb\n",
    "model_pipeline = models_lgb[0]\n",
    "\n",
    "# Extract the LGBM model from pipeline\n",
    "lgb_model = model_pipeline.named_steps['classifier']\n",
    "\n",
    "# Get feature importances\n",
    "importances = lgb_model.feature_importances_\n",
    "feature_names = lgb_model.feature_name_\n",
    "\n",
    "# Create DataFrame for visualization\n",
    "feat_imp_df = pd.DataFrame({\n",
    "    'feature': feature_names,\n",
    "    'importance': importances\n",
    "}).sort_values(by='importance', ascending=False)\n",
    "\n",
    "# Show top 20\n",
    "top_feats = feat_imp_df.head(20)\n",
    "\n",
    "# --- Plot ---\n",
    "plt.figure(figsize=(10, 8))\n",
    "plt.barh(top_feats['feature'][::-1], top_feats['importance'][::-1])\n",
    "plt.xlabel(\"Importance Score\")\n",
    "plt.title(\"Top 20 Features - LGBM\")\n",
    "plt.grid(True, linestyle='--', alpha=0.3)\n",
    "plt.tight_layout()\n",
    "plt.show()\n",
    "\n",
    "# Optional: print to check\n",
    "print(top_feats)"
   ]
  },
  {
   "cell_type": "code",
   "execution_count": 148,
   "id": "cd92b092",
   "metadata": {
    "execution": {
     "iopub.execute_input": "2024-09-16T12:39:55.597696Z",
     "iopub.status.busy": "2024-09-16T12:39:55.597315Z",
     "iopub.status.idle": "2024-09-16T12:45:19.221477Z",
     "shell.execute_reply": "2024-09-16T12:45:19.220490Z"
    },
    "papermill": {
     "duration": 323.841661,
     "end_time": "2024-09-16T12:45:19.332957",
     "exception": false,
     "start_time": "2024-09-16T12:39:55.491296",
     "status": "completed"
    },
    "tags": []
   },
   "outputs": [
    {
     "name": "stdout",
     "output_type": "stream",
     "text": [
      "0.17451598893015374\n"
     ]
    }
   ],
   "source": [
    "metric_list, models_xgb = run_model_old_xgb(\n",
    "    xgb_params, reduce=False, columns_to_drop=columns_to_drop, df_train=df_train, savefile='all_feats')\n",
    "\n",
    "print(np.mean(metric_list))"
   ]
  },
  {
   "cell_type": "code",
   "execution_count": 149,
   "id": "d3f110ce",
   "metadata": {},
   "outputs": [
    {
     "data": {
      "image/png": "[encoded data removed]",
      "text/plain": [
       "<Figure size 1000x800 with 1 Axes>"
      ]
     },
     "metadata": {},
     "output_type": "display_data"
    },
    {
     "name": "stdout",
     "output_type": "stream",
     "text": [
      "                   feature  importance\n",
      "74         predictions_eva    0.085754\n",
      "76         predictions_edg    0.066659\n",
      "75       predictions_eva_m    0.053245\n",
      "77       predictions_edg_m    0.039534\n",
      "73                      of    0.036675\n",
      "37               onehot_11    0.034406\n",
      "1   clin_size_long_diam_mm    0.033695\n",
      "14      tbp_lv_deltaLBnorm    0.032852\n",
      "71               onehot_45    0.031905\n",
      "20      tbp_lv_perimeterMM    0.027870\n",
      "17  tbp_lv_nevi_confidence    0.019114\n",
      "67               onehot_41    0.018679\n",
      "2                 tbp_lv_A    0.017945\n",
      "31                onehot_5    0.015950\n",
      "19       tbp_lv_norm_color    0.014444\n",
      "58               onehot_32    0.014332\n",
      "61               onehot_35    0.014096\n",
      "46               onehot_20    0.013941\n",
      "72               onehot_46    0.013763\n",
      "32                onehot_6    0.013254\n"
     ]
    }
   ],
   "source": [
    "import pandas as pd\n",
    "import matplotlib.pyplot as plt\n",
    "\n",
    "# Get first trained XGB model from your list (inside pipeline)\n",
    "model_pipeline = models_xgb[0]  # Assuming this is your model list\n",
    "xgb_model = model_pipeline.named_steps['classifier']  # Extract XGB model\n",
    "\n",
    "# Get feature importances\n",
    "importances = xgb_model.feature_importances_\n",
    "feature_names = xgb_model.get_booster().feature_names\n",
    "\n",
    "# Create DataFrame\n",
    "feat_imp_df = pd.DataFrame({\n",
    "    'feature': feature_names,\n",
    "    'importance': importances\n",
    "}).sort_values(by='importance', ascending=False)\n",
    "\n",
    "# Get top 20\n",
    "top_feats = feat_imp_df.head(20)\n",
    "\n",
    "# --- Plot ---\n",
    "plt.figure(figsize=(10, 8))\n",
    "plt.barh(top_feats['feature'][::-1], top_feats['importance'][::-1])\n",
    "plt.xlabel(\"Importance Score\")\n",
    "plt.title(\"Top 20 Features - XGBoost\")\n",
    "plt.grid(True, linestyle='--', alpha=0.3)\n",
    "plt.tight_layout()\n",
    "plt.show()\n",
    "\n",
    "# Optional: show values\n",
    "print(top_feats)\n"
   ]
  },
  {
   "cell_type": "markdown",
   "id": "72bc3aa5",
   "metadata": {
    "papermill": {
     "duration": 0.109651,
     "end_time": "2024-09-16T12:45:19.762738",
     "exception": false,
     "start_time": "2024-09-16T12:45:19.653087",
     "status": "completed"
    },
    "tags": []
   },
   "source": [
    "# Prediction on Test"
   ]
  },
  {
   "cell_type": "code",
   "execution_count": 43,
   "id": "027db35f",
   "metadata": {
    "execution": {
     "iopub.execute_input": "2024-09-16T12:45:19.992965Z",
     "iopub.status.busy": "2024-09-16T12:45:19.992633Z",
     "iopub.status.idle": "2024-09-16T12:45:20.102316Z",
     "shell.execute_reply": "2024-09-16T12:45:20.101394Z"
    },
    "papermill": {
     "duration": 0.219528,
     "end_time": "2024-09-16T12:45:20.104636",
     "exception": false,
     "start_time": "2024-09-16T12:45:19.885108",
     "status": "completed"
    },
    "tags": []
   },
   "outputs": [],
   "source": [
    "for col in feature_cols: \n",
    "    df_test[col].replace([np.inf, -np.inf], np.nan, inplace=True)"
   ]
  },
  {
   "cell_type": "code",
   "execution_count": 44,
   "id": "4d9a9288",
   "metadata": {
    "execution": {
     "iopub.execute_input": "2024-09-16T12:45:20.326067Z",
     "iopub.status.busy": "2024-09-16T12:45:20.325695Z",
     "iopub.status.idle": "2024-09-16T12:45:20.332786Z",
     "shell.execute_reply": "2024-09-16T12:45:20.331906Z"
    },
    "papermill": {
     "duration": 0.117104,
     "end_time": "2024-09-16T12:45:20.334660",
     "exception": false,
     "start_time": "2024-09-16T12:45:20.217556",
     "status": "completed"
    },
    "tags": []
   },
   "outputs": [],
   "source": [
    "def get_model_predictions(models_list, df_test, feature_cols, columns_to_drop):\n",
    "    df_test_size = int(df_test.shape[0] // 2)\n",
    "    predictions_tmp = None\n",
    "    for model in models_list:\n",
    "        preds_tmp = model.predict_proba(\n",
    "                df_test[[i for i in feature_cols if i not in columns_to_drop]])[:, 1]\n",
    "\n",
    "        preds_tmp = pd.DataFrame({\"preds\": preds_tmp})\n",
    "        preds_tmp = preds_tmp['preds'].rank(pct=True)\n",
    "\n",
    "        if predictions_tmp is None:\n",
    "            predictions_tmp = preds_tmp.values\n",
    "        else:\n",
    "            predictions_tmp += preds_tmp.values\n",
    "\n",
    "    predictions_tmp = predictions_tmp / len(models_list)\n",
    "    return predictions_tmp"
   ]
  },
  {
   "cell_type": "code",
   "execution_count": 45,
   "id": "b6a2f883",
   "metadata": {
    "execution": {
     "iopub.execute_input": "2024-09-16T12:45:20.550757Z",
     "iopub.status.busy": "2024-09-16T12:45:20.549885Z",
     "iopub.status.idle": "2024-09-16T12:45:24.918146Z",
     "shell.execute_reply": "2024-09-16T12:45:24.917178Z"
    },
    "papermill": {
     "duration": 4.478752,
     "end_time": "2024-09-16T12:45:24.920600",
     "exception": false,
     "start_time": "2024-09-16T12:45:20.441848",
     "status": "completed"
    },
    "tags": []
   },
   "outputs": [],
   "source": [
    "predictions_cb = get_model_predictions(models_cb, df_test, feature_cols, columns_to_drop)\n",
    "predictions_xgb = get_model_predictions(models_xgb, df_test, feature_cols, columns_to_drop)\n",
    "predictions_lgb = get_model_predictions(models_lgb, df_test, feature_cols, columns_to_drop)"
   ]
  },
  {
   "cell_type": "code",
   "execution_count": 46,
   "id": "fee1d5ee",
   "metadata": {
    "execution": {
     "iopub.execute_input": "2024-09-16T12:45:25.136908Z",
     "iopub.status.busy": "2024-09-16T12:45:25.136059Z",
     "iopub.status.idle": "2024-09-16T12:45:25.152287Z",
     "shell.execute_reply": "2024-09-16T12:45:25.151417Z"
    },
    "papermill": {
     "duration": 0.124985,
     "end_time": "2024-09-16T12:45:25.154170",
     "exception": false,
     "start_time": "2024-09-16T12:45:25.029185",
     "status": "completed"
    },
    "tags": []
   },
   "outputs": [
    {
     "data": {
      "text/html": [
       "<div>\n",
       "<style scoped>\n",
       "    .dataframe tbody tr th:only-of-type {\n",
       "        vertical-align: middle;\n",
       "    }\n",
       "\n",
       "    .dataframe tbody tr th {\n",
       "        vertical-align: top;\n",
       "    }\n",
       "\n",
       "    .dataframe thead th {\n",
       "        text-align: right;\n",
       "    }\n",
       "</style>\n",
       "<table border=\"1\" class=\"dataframe\">\n",
       "  <thead>\n",
       "    <tr style=\"text-align: right;\">\n",
       "      <th></th>\n",
       "      <th>target</th>\n",
       "    </tr>\n",
       "    <tr>\n",
       "      <th>isic_id</th>\n",
       "      <th></th>\n",
       "    </tr>\n",
       "  </thead>\n",
       "  <tbody>\n",
       "    <tr>\n",
       "      <th>ISIC_0015657</th>\n",
       "      <td>0.666667</td>\n",
       "    </tr>\n",
       "    <tr>\n",
       "      <th>ISIC_0015729</th>\n",
       "      <td>0.355556</td>\n",
       "    </tr>\n",
       "    <tr>\n",
       "      <th>ISIC_0015740</th>\n",
       "      <td>0.977778</td>\n",
       "    </tr>\n",
       "  </tbody>\n",
       "</table>\n",
       "</div>"
      ],
      "text/plain": [
       "                target\n",
       "isic_id               \n",
       "ISIC_0015657  0.666667\n",
       "ISIC_0015729  0.355556\n",
       "ISIC_0015740  0.977778"
      ]
     },
     "execution_count": 46,
     "metadata": {},
     "output_type": "execute_result"
    }
   ],
   "source": [
    "predictions = (\n",
    "    predictions_lgb +\n",
    "    predictions_cb +\n",
    "    predictions_xgb\n",
    ") / 3\n",
    "\n",
    "df_subm['target'] = predictions\n",
    "\n",
    "\n",
    "df_subm.to_csv('submission.csv')\n",
    "df_subm.head()"
   ]
  },
  {
   "cell_type": "markdown",
   "id": "04bfc1b0",
   "metadata": {},
   "source": [
    "# Cross Val Result on Original Data Using Best Solution"
   ]
  },
  {
   "cell_type": "code",
   "execution_count": 150,
   "id": "daea8c16",
   "metadata": {
    "execution": {
     "iopub.execute_input": "2024-08-18T17:14:08.094553Z",
     "iopub.status.busy": "2024-08-18T17:14:08.094161Z",
     "iopub.status.idle": "2024-08-18T17:14:12.227334Z",
     "shell.execute_reply": "2024-08-18T17:14:12.22631Z",
     "shell.execute_reply.started": "2024-08-18T17:14:08.094526Z"
    },
    "papermill": {
     "duration": 0.106191,
     "end_time": "2024-09-16T12:45:25.366511",
     "exception": false,
     "start_time": "2024-09-16T12:45:25.260320",
     "status": "completed"
    },
    "tags": []
   },
   "outputs": [
    {
     "name": "stdout",
     "output_type": "stream",
     "text": [
      "Ensemble CV pAUC Score: 0.17550003798383068\n"
     ]
    }
   ],
   "source": [
    "import pandas as pd\n",
    "\n",
    "xgb_oof = pd.read_parquet('../result/xgboost_all_fold_predictions_all_feat.parquet')\n",
    "lgb_oof = pd.read_parquet('../result/lightgbm_all_fold_predictions_all_feat.parquet')\n",
    "cb_oof  = pd.read_parquet('../result/catboost_all_fold_predictions_all_feat.parquet')\n",
    "\n",
    "df = xgb_oof[['isic_id', 'target', 'pred']].rename(columns={'pred': 'xgb_pred'}) \\\n",
    "     .merge(lgb_oof[['isic_id', 'pred']].rename(columns={'pred': 'lgb_pred'}), on='isic_id') \\\n",
    "     .merge(cb_oof[['isic_id', 'pred']].rename(columns={'pred': 'cb_pred'}), on='isic_id')\n",
    "\n",
    "df['ensemble_pred'] = (df['xgb_pred'] + df['lgb_pred'] + df['cb_pred']) / 3\n",
    "\n",
    "# Calculate ensemble CV pAUC\n",
    "score = custom_metric_raw(df['ensemble_pred'].values, df['target'].values)\n",
    "\n",
    "print('Ensemble CV pAUC Score:', score)"
   ]
  },
  {
   "cell_type": "code",
   "execution_count": 154,
   "id": "5979d06a",
   "metadata": {},
   "outputs": [
    {
     "data": {
      "image/png": "[encoded data removed]",
      "text/plain": [
       "<Figure size 800x600 with 1 Axes>"
      ]
     },
     "metadata": {},
     "output_type": "display_data"
    }
   ],
   "source": [
    "import pandas as pd\n",
    "from sklearn.metrics import roc_curve, auc\n",
    "import matplotlib.pyplot as plt\n",
    "\n",
    "# Load predictions\n",
    "xgb_oof = pd.read_parquet('../result/xgboost_all_fold_predictions_all_feat.parquet')\n",
    "lgb_oof = pd.read_parquet('../result/lightgbm_all_fold_predictions_all_feat.parquet')\n",
    "cb_oof = pd.read_parquet('../result/catboost_all_fold_predictions_all_feat.parquet')\n",
    "\n",
    "# Merge predictions\n",
    "df = xgb_oof[['isic_id', 'target', 'pred']].rename(columns={'pred': 'xgb_pred'}) \\\n",
    "    .merge(lgb_oof[['isic_id', 'pred']].rename(columns={'pred': 'lgb_pred'}), on='isic_id') \\\n",
    "    .merge(cb_oof[['isic_id', 'pred']].rename(columns={'pred': 'cb_pred'}), on='isic_id')\n",
    "\n",
    "df['ensemble_pred'] = (df['xgb_pred'] + df['lgb_pred'] + df['cb_pred']) / 3\n",
    "\n",
    "# Calculate ROC\n",
    "fpr, tpr, _ = roc_curve(df['target'], df['ensemble_pred'])\n",
    "roc_auc = auc(fpr, tpr)\n",
    "\n",
    "# Plot ROC curve\n",
    "plt.figure(figsize=(8, 6))\n",
    "plt.plot(fpr, tpr, color='darkorange', lw=2, label=f'Ensemble ROC curve (area = {roc_auc:.4f})')\n",
    "plt.plot([0, 1], [0, 1], color='navy', lw=2, linestyle='--')\n",
    "plt.xlabel('False Positive Rate')\n",
    "plt.ylabel('True Positive Rate')\n",
    "plt.title('Receiver Operating Characteristic (ROC) Curve')\n",
    "plt.legend(loc=\"lower right\")\n",
    "plt.grid(True)\n",
    "plt.show()\n"
   ]
  },
  {
   "cell_type": "code",
   "execution_count": 152,
   "id": "44982159",
   "metadata": {},
   "outputs": [
    {
     "data": {
      "image/png": "[encoded data removed]",
      "text/plain": [
       "<Figure size 1000x600 with 1 Axes>"
      ]
     },
     "metadata": {},
     "output_type": "display_data"
    }
   ],
   "source": [
    "import matplotlib.pyplot as plt\n",
    "import pandas as pd\n",
    "\n",
    "# Load preds\n",
    "xgb_oof = pd.read_parquet('../result/xgboost_all_fold_predictions_all_feat.parquet')\n",
    "lgb_oof = pd.read_parquet('../result/lightgbm_all_fold_predictions_all_feat.parquet')\n",
    "cb_oof  = pd.read_parquet('../result/catboost_all_fold_predictions_all_feat.parquet')\n",
    "\n",
    "df = xgb_oof[['isic_id', 'target', 'pred']].rename(columns={'pred': 'xgb_pred'}) \\\n",
    "     .merge(lgb_oof[['isic_id', 'pred']].rename(columns={'pred': 'lgb_pred'}), on='isic_id') \\\n",
    "     .merge(cb_oof[['isic_id', 'pred']].rename(columns={'pred': 'cb_pred'}), on='isic_id')\n",
    "\n",
    "df['ensemble_pred'] = (df['xgb_pred'] + df['lgb_pred'] + df['cb_pred']) / 3\n",
    "\n",
    "# Create TP and FP mask based on threshold=0.5\n",
    "TP = df[(df['ensemble_pred'] >= 0.5) & (df['target'] == 1)]\n",
    "FP = df[(df['ensemble_pred'] >= 0.5) & (df['target'] == 0)]\n",
    "\n",
    "plt.figure(figsize=(10, 6))\n",
    "plt.hist(TP['ensemble_pred'], bins=30, alpha=0.7, label='True Positives', color='g')\n",
    "plt.hist(FP['ensemble_pred'], bins=30, alpha=0.7, label='False Positives', color='r')\n",
    "plt.axvline(0.5, color='black', linestyle='--', label='Threshold 0.5')\n",
    "plt.xlabel('Prediction Confidence')\n",
    "plt.ylabel('Count')\n",
    "plt.title('Prediction Confidence: TP vs FP (Ensemble Predictions ≥ 0.5)')\n",
    "plt.legend()\n",
    "plt.grid(True)\n",
    "plt.tight_layout()\n",
    "plt.show()\n"
   ]
  },
  {
   "cell_type": "code",
   "execution_count": 153,
   "id": "e33b6be7",
   "metadata": {},
   "outputs": [
    {
     "data": {
      "image/png": "[encoded data removed]",
      "text/plain": [
       "<Figure size 1000x600 with 1 Axes>"
      ]
     },
     "metadata": {},
     "output_type": "display_data"
    }
   ],
   "source": [
    "import matplotlib.pyplot as plt\n",
    "import pandas as pd\n",
    "\n",
    "# Load predictions\n",
    "xgb_oof = pd.read_parquet('../result/xgboost_all_fold_predictions_all_feat.parquet')\n",
    "lgb_oof = pd.read_parquet('../result/lightgbm_all_fold_predictions_all_feat.parquet')\n",
    "cb_oof  = pd.read_parquet('../result/catboost_all_fold_predictions_all_feat.parquet')\n",
    "\n",
    "# Merge and create ensemble\n",
    "df = xgb_oof[['isic_id', 'target', 'pred']].rename(columns={'pred': 'xgb_pred'}) \\\n",
    "     .merge(lgb_oof[['isic_id', 'pred']].rename(columns={'pred': 'lgb_pred'}), on='isic_id') \\\n",
    "     .merge(cb_oof[['isic_id', 'pred']].rename(columns={'pred': 'cb_pred'}), on='isic_id')\n",
    "\n",
    "df['ensemble_pred'] = (df['xgb_pred'] + df['lgb_pred'] + df['cb_pred']) / 3\n",
    "\n",
    "# Split by target\n",
    "benign = df[df['target'] == 0]\n",
    "malignant = df[df['target'] == 1]\n",
    "\n",
    "# Plot\n",
    "plt.figure(figsize=(10, 6))\n",
    "plt.hist(benign['ensemble_pred'], bins=50, alpha=0.6, label='Benign', color='b', density=True)\n",
    "plt.hist(malignant['ensemble_pred'], bins=50, alpha=0.6, label='Malignant', color='orange', density=True)\n",
    "\n",
    "plt.axvline(0.5, color='black', linestyle='--', label='Threshold 0.5')\n",
    "plt.xlabel('Prediction Confidence')\n",
    "plt.ylabel('Density')\n",
    "plt.title('Prediction Confidence Distribution: Benign vs Malignant')\n",
    "plt.legend()\n",
    "plt.grid(True)\n",
    "plt.tight_layout()\n",
    "plt.show()\n"
   ]
  },
  {
   "cell_type": "code",
   "execution_count": 151,
   "id": "45e807f8",
   "metadata": {},
   "outputs": [
    {
     "name": "stdout",
     "output_type": "stream",
     "text": [
      "Confusion Matrix:\n",
      "[[400276    390]\n",
      " [   308     85]]\n"
     ]
    },
    {
     "data": {
      "image/png": "[encoded data removed]",
      "text/plain": [
       "<Figure size 640x480 with 2 Axes>"
      ]
     },
     "metadata": {},
     "output_type": "display_data"
    }
   ],
   "source": [
    "from sklearn.metrics import confusion_matrix, ConfusionMatrixDisplay\n",
    "import matplotlib.pyplot as plt\n",
    "\n",
    "# Threshold ensemble predictions\n",
    "threshold = 0.5\n",
    "df['ensemble_pred_class'] = (df['ensemble_pred'] >= threshold).astype(int)\n",
    "\n",
    "# Generate Confusion Matrix\n",
    "cm = confusion_matrix(df['target'], df['ensemble_pred_class'])\n",
    "\n",
    "print(\"Confusion Matrix:\")\n",
    "print(cm)\n",
    "\n",
    "# Optional: Plot\n",
    "disp = ConfusionMatrixDisplay(confusion_matrix=cm, display_labels=[\"Benign (0)\", \"Malignant (1)\"])\n",
    "disp.plot(cmap='Blues', values_format='d')\n",
    "plt.title('Ensemble Model - Confusion Matrix')\n",
    "plt.show()\n"
   ]
  },
  {
   "cell_type": "markdown",
   "id": "b9b7581f",
   "metadata": {},
   "source": [
    "# Cross Val Result Using Only Original Data"
   ]
  },
  {
   "cell_type": "code",
   "execution_count": null,
   "id": "13908e44",
   "metadata": {
    "papermill": {
     "duration": 0.106922,
     "end_time": "2024-09-16T12:45:26.001597",
     "exception": false,
     "start_time": "2024-09-16T12:45:25.894675",
     "status": "completed"
    },
    "tags": []
   },
   "outputs": [
    {
     "name": "stdout",
     "output_type": "stream",
     "text": [
      "(401059, 36)\n",
      "(3, 35)\n"
     ]
    }
   ],
   "source": [
    "df_train_original = df_train[[group_col]+num_cols+cat_cols+[target_col]]\n",
    "df_train_original = df_train_original[[col for col in df_train_original.columns if 'onehot' not in col]]\n",
    "print(df_train_original.shape)"
   ]
  },
  {
   "cell_type": "code",
   "execution_count": 95,
   "id": "1834ae2f",
   "metadata": {},
   "outputs": [
    {
     "data": {
      "text/plain": [
       "Index(['patient_id', 'age_approx', 'clin_size_long_diam_mm', 'tbp_lv_A',\n",
       "       'tbp_lv_Aext', 'tbp_lv_B', 'tbp_lv_Bext', 'tbp_lv_C', 'tbp_lv_Cext',\n",
       "       'tbp_lv_H', 'tbp_lv_Hext', 'tbp_lv_L', 'tbp_lv_Lext', 'tbp_lv_areaMM2',\n",
       "       'tbp_lv_area_perim_ratio', 'tbp_lv_color_std_mean', 'tbp_lv_deltaA',\n",
       "       'tbp_lv_deltaB', 'tbp_lv_deltaL', 'tbp_lv_deltaLB',\n",
       "       'tbp_lv_deltaLBnorm', 'tbp_lv_eccentricity', 'tbp_lv_minorAxisMM',\n",
       "       'tbp_lv_nevi_confidence', 'tbp_lv_norm_border', 'tbp_lv_norm_color',\n",
       "       'tbp_lv_perimeterMM', 'tbp_lv_radial_color_std_max', 'tbp_lv_stdL',\n",
       "       'tbp_lv_stdLExt', 'tbp_lv_symm_2axis', 'tbp_lv_symm_2axis_angle',\n",
       "       'tbp_lv_x', 'tbp_lv_y', 'tbp_lv_z', 'target'],\n",
       "      dtype='object')"
      ]
     },
     "execution_count": 95,
     "metadata": {},
     "output_type": "execute_result"
    }
   ],
   "source": [
    "df_train_original.columns"
   ]
  },
  {
   "cell_type": "code",
   "execution_count": 104,
   "id": "342e150d",
   "metadata": {},
   "outputs": [
    {
     "name": "stderr",
     "output_type": "stream",
     "text": [
      "0it [00:00, ?it/s]Default metric period is 5 because AUC is/are not implemented for GPU\n",
      "1it [00:06,  6.37s/it]Default metric period is 5 because AUC is/are not implemented for GPU\n",
      "2it [00:10,  4.84s/it]Default metric period is 5 because AUC is/are not implemented for GPU\n",
      "3it [00:12,  3.73s/it]Default metric period is 5 because AUC is/are not implemented for GPU\n",
      "4it [00:16,  3.72s/it]Default metric period is 5 because AUC is/are not implemented for GPU\n",
      "5it [00:19,  4.00s/it]"
     ]
    },
    {
     "name": "stdout",
     "output_type": "stream",
     "text": [
      "0.15270228255525692\n"
     ]
    },
    {
     "name": "stderr",
     "output_type": "stream",
     "text": [
      "\n"
     ]
    }
   ],
   "source": [
    "model_config_cb = ModelConfigCB(**{\n",
    "     'learning_rate': 0.02606161517843435,\n",
    "     'l2_leaf_reg': 18.04422276698195,\n",
    "     'random_strength': 4.7069580783889995,\n",
    "     'depth': 6,\n",
    "     'bagging_temperature': 0.8735940473548339,\n",
    "     'border_count': 256,\n",
    "     'grow_policy': 'Lossguide',\n",
    "     'min_data_in_leaf': 38})\n",
    "\n",
    "metric_list, models_cb = run_model_cb(\n",
    "    model_config_cb.dict(), test=True, reduce=False, columns_to_drop=columns_to_drop, df_train=df_train_original, savefile='original_feats')\n",
    "\n",
    "print(np.mean(metric_list))"
   ]
  },
  {
   "cell_type": "code",
   "execution_count": 107,
   "id": "85fe3729",
   "metadata": {},
   "outputs": [
    {
     "name": "stdout",
     "output_type": "stream",
     "text": [
      "0.1527470888426722\n"
     ]
    }
   ],
   "source": [
    "metric_list, models_lgb = run_model_old_lgb(\n",
    "    lgb_params, reduce=False, columns_to_drop=columns_to_drop, df_train=df_train_original, savefile='original_feats')\n",
    "\n",
    "print(np.mean(metric_list))"
   ]
  },
  {
   "cell_type": "code",
   "execution_count": 108,
   "id": "b89e3b30",
   "metadata": {},
   "outputs": [
    {
     "name": "stdout",
     "output_type": "stream",
     "text": [
      "0.14825666132056178\n"
     ]
    }
   ],
   "source": [
    "metric_list, models_xgb = run_model_old_xgb(\n",
    "    xgb_params, reduce=False, columns_to_drop=columns_to_drop, df_train=df_train_original, savefile='original_feats')\n",
    "\n",
    "print(np.mean(metric_list))"
   ]
  },
  {
   "cell_type": "code",
   "execution_count": 112,
   "id": "28e563c5",
   "metadata": {},
   "outputs": [
    {
     "name": "stdout",
     "output_type": "stream",
     "text": [
      "Ensemble CV pAUC Score: 0.14985873076035774\n"
     ]
    }
   ],
   "source": [
    "import pandas as pd\n",
    "\n",
    "xgb_oof = pd.read_parquet('../result/xgboost_all_fold_predictions_original_feats.parquet')\n",
    "lgb_oof = pd.read_parquet('../result/lightgbm_all_fold_predictions_original_feats.parquet')\n",
    "cb_oof  = pd.read_parquet('../result/catboost_all_fold_predictions_original_feats.parquet')\n",
    "\n",
    "df = xgb_oof[['isic_id', 'target', 'pred']].rename(columns={'pred': 'xgb_pred'}) \\\n",
    "     .merge(lgb_oof[['isic_id', 'pred']].rename(columns={'pred': 'lgb_pred'}), on='isic_id') \\\n",
    "     .merge(cb_oof[['isic_id', 'pred']].rename(columns={'pred': 'cb_pred'}), on='isic_id')\n",
    "\n",
    "df['ensemble_pred'] = (df['xgb_pred'] + df['lgb_pred'] + df['cb_pred']) / 3\n",
    "\n",
    "# Calculate ensemble CV pAUC\n",
    "score = custom_metric_raw(df['ensemble_pred'].values, df['target'].values)\n",
    "\n",
    "print('Ensemble CV pAUC Score:', score)"
   ]
  },
  {
   "cell_type": "markdown",
   "id": "705adb70",
   "metadata": {},
   "source": [
    "# Cross Val Result Using Feat Engineering without Image model Preds"
   ]
  },
  {
   "cell_type": "code",
   "execution_count": 119,
   "id": "1cd61b12",
   "metadata": {},
   "outputs": [
    {
     "data": {
      "text/plain": [
       "Index(['onehot_45', 'onehot_46', 'of', 'old_set_0', 'old_set_1', 'old_set_2',\n",
       "       'old_set_0_m', 'old_set_1_m', 'old_set_2_m', 'patient_id_y',\n",
       "       'predictions_eva', 'predictions_eva_m', 'patient_id', 'predictions_edg',\n",
       "       'predictions_edg_m'],\n",
       "      dtype='object')"
      ]
     },
     "execution_count": 119,
     "metadata": {},
     "output_type": "execute_result"
    }
   ],
   "source": [
    "df_train.columns[-15:]"
   ]
  },
  {
   "cell_type": "code",
   "execution_count": 120,
   "id": "b9abb607",
   "metadata": {
    "papermill": {
     "duration": 0.10588,
     "end_time": "2024-09-16T12:45:26.212975",
     "exception": false,
     "start_time": "2024-09-16T12:45:26.107095",
     "status": "completed"
    },
    "tags": []
   },
   "outputs": [
    {
     "name": "stdout",
     "output_type": "stream",
     "text": [
      "(401059, 227)\n"
     ]
    }
   ],
   "source": [
    "cols_to_exclude = ['old_set_0', 'old_set_1', 'old_set_2', 'old_set_0_m', 'old_set_1_m', 'old_set_2_m', 'predictions_eva',\n",
    "                    'predictions_eva_m', 'predictions_edg','predictions_edg_m']\n",
    "df_train_feat_engr = df_train.drop(columns=[col for col in cols_to_exclude if col in df_train.columns])\n",
    "print(df_train_feat_engr.shape)"
   ]
  },
  {
   "cell_type": "code",
   "execution_count": 124,
   "id": "7b661b8d",
   "metadata": {
    "papermill": {
     "duration": 0.106256,
     "end_time": "2024-09-16T12:45:26.425219",
     "exception": false,
     "start_time": "2024-09-16T12:45:26.318963",
     "status": "completed"
    },
    "tags": []
   },
   "outputs": [
    {
     "name": "stderr",
     "output_type": "stream",
     "text": [
      "0it [00:00, ?it/s]Default metric period is 5 because AUC is/are not implemented for GPU\n",
      "1it [00:06,  6.54s/it]Default metric period is 5 because AUC is/are not implemented for GPU\n",
      "2it [00:10,  5.00s/it]Default metric period is 5 because AUC is/are not implemented for GPU\n",
      "3it [00:15,  5.04s/it]Default metric period is 5 because AUC is/are not implemented for GPU\n",
      "4it [00:19,  4.69s/it]Default metric period is 5 because AUC is/are not implemented for GPU\n",
      "5it [00:23,  4.61s/it]"
     ]
    },
    {
     "name": "stdout",
     "output_type": "stream",
     "text": [
      "0.16504762093802464\n"
     ]
    },
    {
     "name": "stderr",
     "output_type": "stream",
     "text": [
      "\n"
     ]
    }
   ],
   "source": [
    "model_config_cb = ModelConfigCB(**{\n",
    "     'learning_rate': 0.02606161517843435,\n",
    "     'l2_leaf_reg': 18.04422276698195,\n",
    "     'random_strength': 4.7069580783889995,\n",
    "     'depth': 6,\n",
    "     'bagging_temperature': 0.8735940473548339,\n",
    "     'border_count': 256,\n",
    "     'grow_policy': 'Lossguide',\n",
    "     'min_data_in_leaf': 38})\n",
    "\n",
    "metric_list, models_cb = run_model_cb(\n",
    "    model_config_cb.dict(), test=True, reduce=False, columns_to_drop=columns_to_drop, df_train=df_train_feat_engr, savefile='custom_feats_without_old_model_preds')\n",
    "\n",
    "print(np.mean(metric_list))"
   ]
  },
  {
   "cell_type": "code",
   "execution_count": 125,
   "id": "8cb3c42f",
   "metadata": {},
   "outputs": [
    {
     "name": "stdout",
     "output_type": "stream",
     "text": [
      "0.16328905133311108\n"
     ]
    }
   ],
   "source": [
    "metric_list, models_lgb = run_model_old_lgb(\n",
    "    lgb_params, reduce=False, columns_to_drop=columns_to_drop, df_train=df_train_feat_engr, savefile='custom_feats_without_old_model_preds')\n",
    "\n",
    "print(np.mean(metric_list))"
   ]
  },
  {
   "cell_type": "code",
   "execution_count": 126,
   "id": "5fc36322",
   "metadata": {},
   "outputs": [
    {
     "name": "stdout",
     "output_type": "stream",
     "text": [
      "0.16366703335993876\n"
     ]
    }
   ],
   "source": [
    "metric_list, models_xgb = run_model_old_xgb(\n",
    "    xgb_params, reduce=False, columns_to_drop=columns_to_drop, df_train=df_train_feat_engr, savefile='custom_feats_without_old_model_preds')\n",
    "\n",
    "print(np.mean(metric_list))"
   ]
  },
  {
   "cell_type": "code",
   "execution_count": 130,
   "id": "5153c44a",
   "metadata": {},
   "outputs": [
    {
     "name": "stdout",
     "output_type": "stream",
     "text": [
      "Ensemble CV pAUC Score: 0.16444659717905563\n"
     ]
    }
   ],
   "source": [
    "import pandas as pd\n",
    "\n",
    "xgb_oof = pd.read_parquet('../result/xgboost_all_fold_predictions_custom_feats_without_old_model_preds.parquet')\n",
    "lgb_oof = pd.read_parquet('../result/lightgbm_all_fold_predictions_custom_feats_without_old_model_preds.parquet')\n",
    "cb_oof  = pd.read_parquet('../result/catboost_all_fold_predictions_custom_feats_without_old_model_preds.parquet')\n",
    "\n",
    "df = xgb_oof[['isic_id', 'target', 'pred']].rename(columns={'pred': 'xgb_pred'}) \\\n",
    "     .merge(lgb_oof[['isic_id', 'pred']].rename(columns={'pred': 'lgb_pred'}), on='isic_id') \\\n",
    "     .merge(cb_oof[['isic_id', 'pred']].rename(columns={'pred': 'cb_pred'}), on='isic_id')\n",
    "\n",
    "df['ensemble_pred'] = (df['xgb_pred'] + df['lgb_pred'] + df['cb_pred']) / 3\n",
    "\n",
    "# Calculate ensemble CV pAUC\n",
    "score = custom_metric_raw(df['ensemble_pred'].values, df['target'].values)\n",
    "\n",
    "print('Ensemble CV pAUC Score:', score)"
   ]
  },
  {
   "cell_type": "code",
   "execution_count": 138,
   "id": "81dcd004",
   "metadata": {},
   "outputs": [
    {
     "data": {
      "text/plain": [
       "Index(['onehot_23', 'onehot_24', 'onehot_25', 'onehot_26', 'onehot_27',\n",
       "       'onehot_28', 'onehot_29', 'onehot_30', 'onehot_31', 'onehot_32',\n",
       "       'onehot_33', 'onehot_34', 'onehot_35', 'onehot_36', 'onehot_37',\n",
       "       'onehot_38', 'onehot_39', 'onehot_40', 'onehot_41', 'onehot_42',\n",
       "       'onehot_43', 'onehot_44', 'onehot_45', 'onehot_46', 'of', 'old_set_0',\n",
       "       'old_set_1', 'old_set_2', 'old_set_0_m', 'old_set_1_m', 'old_set_2_m',\n",
       "       'patient_id_y', 'predictions_eva', 'predictions_eva_m', 'patient_id',\n",
       "       'predictions_edg', 'predictions_edg_m'],\n",
       "      dtype='object')"
      ]
     },
     "execution_count": 138,
     "metadata": {},
     "output_type": "execute_result"
    }
   ],
   "source": [
    "df_train.columns[200:238]"
   ]
  },
  {
   "cell_type": "code",
   "execution_count": 139,
   "id": "b7dd7bd3",
   "metadata": {},
   "outputs": [
    {
     "data": {
      "text/plain": [
       "target\n",
       "0    400666\n",
       "1       393\n",
       "Name: count, dtype: int64"
      ]
     },
     "execution_count": 139,
     "metadata": {},
     "output_type": "execute_result"
    }
   ],
   "source": [
    "df_train.target.value_counts()"
   ]
  }
 ],
 "metadata": {
  "kaggle": {
   "accelerator": "gpu",
   "dataSources": [
    {
     "databundleVersionId": 9094797,
     "sourceId": 63056,
     "sourceType": "competition"
    },
    {
     "datasetId": 5593457,
     "sourceId": 9307595,
     "sourceType": "datasetVersion"
    },
    {
     "sourceId": 194303065,
     "sourceType": "kernelVersion"
    },
    {
     "sourceId": 196859680,
     "sourceType": "kernelVersion"
    }
   ],
   "dockerImageVersionId": 30747,
   "isGpuEnabled": true,
   "isInternetEnabled": false,
   "language": "python",
   "sourceType": "notebook"
  },
  "kernelspec": {
   "display_name": "Python 3",
   "language": "python",
   "name": "python3"
  },
  "language_info": {
   "codemirror_mode": {
    "name": "ipython",
    "version": 3
   },
   "file_extension": ".py",
   "mimetype": "text/x-python",
   "name": "python",
   "nbconvert_exporter": "python",
   "pygments_lexer": "ipython3",
   "version": "3.11.11"
  },
  "papermill": {
   "default_parameters": {},
   "duration": 1306.882618,
   "end_time": "2024-09-16T12:45:29.002473",
   "environment_variables": {},
   "exception": null,
   "input_path": "__notebook__.ipynb",
   "output_path": "__notebook__.ipynb",
   "parameters": {},
   "start_time": "2024-09-16T12:23:42.119855",
   "version": "2.5.0"
  }
 },
 "nbformat": 4,
 "nbformat_minor": 5
}
